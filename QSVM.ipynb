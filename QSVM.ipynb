{
 "cells": [
  {
   "cell_type": "markdown",
   "id": "d269f38e-5627-42eb-9d75-4f5b01cf7d2d",
   "metadata": {},
   "source": [
    "# Quantum Support Vector Machine\n",
    "\n",
    "SVM but uses quantum kernels."
   ]
  },
  {
   "cell_type": "markdown",
   "id": "5ad44d56-6d52-4542-9bff-8f2935df5f51",
   "metadata": {},
   "source": [
    "## Part I - Regression"
   ]
  },
  {
   "cell_type": "markdown",
   "id": "3fbb41e2-d53c-4191-88a4-72737ae141d4",
   "metadata": {},
   "source": [
    "### Generic Imports"
   ]
  },
  {
   "cell_type": "code",
   "execution_count": 3,
   "id": "5ce758ee-60d5-4bc6-8be7-4b7e658112d5",
   "metadata": {},
   "outputs": [],
   "source": [
    "import warnings\n",
    "import pandas as pd\n",
    "import numpy as np\n",
    "import matplotlib\n",
    "import matplotlib.pyplot as plt\n",
    "from sklearn import linear_model, model_selection\n",
    "from sklearn.mixture import GaussianMixture\n",
    "from sklearn.model_selection import train_test_split\n",
    "from sklearn.metrics import mean_squared_error, r2_score\n",
    "from sklearn.preprocessing import MinMaxScaler, StandardScaler #StandardScaler is sensitive to outlier"
   ]
  },
  {
   "cell_type": "markdown",
   "id": "f900e9bc-4631-4a61-a0c5-fba71a4fd951",
   "metadata": {},
   "source": [
    "### Verify File Content"
   ]
  },
  {
   "cell_type": "code",
   "execution_count": 4,
   "id": "144331d2-1702-4bfe-9bf3-9cfae926606a",
   "metadata": {},
   "outputs": [
    {
     "data": {
      "text/html": [
       "<div>\n",
       "<style scoped>\n",
       "    .dataframe tbody tr th:only-of-type {\n",
       "        vertical-align: middle;\n",
       "    }\n",
       "\n",
       "    .dataframe tbody tr th {\n",
       "        vertical-align: top;\n",
       "    }\n",
       "\n",
       "    .dataframe thead th {\n",
       "        text-align: right;\n",
       "    }\n",
       "</style>\n",
       "<table border=\"1\" class=\"dataframe\">\n",
       "  <thead>\n",
       "    <tr style=\"text-align: right;\">\n",
       "      <th></th>\n",
       "      <th>el_neg</th>\n",
       "      <th>B/GPa</th>\n",
       "      <th>Volume/A^3</th>\n",
       "      <th>SFE/mJm^-3</th>\n",
       "    </tr>\n",
       "    <tr>\n",
       "      <th>Element</th>\n",
       "      <th></th>\n",
       "      <th></th>\n",
       "      <th></th>\n",
       "      <th></th>\n",
       "    </tr>\n",
       "  </thead>\n",
       "  <tbody>\n",
       "    <tr>\n",
       "      <th>Be</th>\n",
       "      <td>1.57</td>\n",
       "      <td>130.0</td>\n",
       "      <td>8.09</td>\n",
       "      <td>23.48</td>\n",
       "    </tr>\n",
       "    <tr>\n",
       "      <th>Sc</th>\n",
       "      <td>1.36</td>\n",
       "      <td>57.0</td>\n",
       "      <td>25.00</td>\n",
       "      <td>16.16</td>\n",
       "    </tr>\n",
       "    <tr>\n",
       "      <th>Ti</th>\n",
       "      <td>1.54</td>\n",
       "      <td>110.0</td>\n",
       "      <td>17.60</td>\n",
       "      <td>24.44</td>\n",
       "    </tr>\n",
       "    <tr>\n",
       "      <th>Co</th>\n",
       "      <td>1.88</td>\n",
       "      <td>180.0</td>\n",
       "      <td>11.00</td>\n",
       "      <td>37.64</td>\n",
       "    </tr>\n",
       "    <tr>\n",
       "      <th>Zn</th>\n",
       "      <td>1.65</td>\n",
       "      <td>70.0</td>\n",
       "      <td>15.20</td>\n",
       "      <td>20.98</td>\n",
       "    </tr>\n",
       "    <tr>\n",
       "      <th>Y</th>\n",
       "      <td>1.22</td>\n",
       "      <td>41.0</td>\n",
       "      <td>33.00</td>\n",
       "      <td>8.52</td>\n",
       "    </tr>\n",
       "  </tbody>\n",
       "</table>\n",
       "</div>"
      ],
      "text/plain": [
       "         el_neg  B/GPa  Volume/A^3  SFE/mJm^-3\n",
       "Element                                       \n",
       "Be         1.57  130.0        8.09       23.48\n",
       "Sc         1.36   57.0       25.00       16.16\n",
       "Ti         1.54  110.0       17.60       24.44\n",
       "Co         1.88  180.0       11.00       37.64\n",
       "Zn         1.65   70.0       15.20       20.98\n",
       "Y          1.22   41.0       33.00        8.52"
      ]
     },
     "execution_count": 4,
     "metadata": {},
     "output_type": "execute_result"
    }
   ],
   "source": [
    "df = pd.read_csv(\"qml_training-validation-data.csv\", index_col = 0)\n",
    "df.head(6)"
   ]
  },
  {
   "cell_type": "markdown",
   "id": "579dcc03-526c-47b1-ae6a-cfdf7607c02d",
   "metadata": {},
   "source": [
    "### Qiskit Imports"
   ]
  },
  {
   "cell_type": "code",
   "execution_count": 5,
   "id": "d8834ae6-21e6-4b63-9873-345b43577f99",
   "metadata": {},
   "outputs": [],
   "source": [
    "from IPython.display import clear_output\n",
    "\n",
    "from qiskit_aer import Aer\n",
    "from qiskit.circuit.library import PauliFeatureMap, RealAmplitudes, ZZFeatureMap\n",
    "from qiskit_machine_learning.algorithms import VQR\n",
    "from qiskit_machine_learning.datasets import ad_hoc_data\n",
    "from qiskit_machine_learning.algorithms import QSVR,QSVC\n",
    "from qiskit_machine_learning.kernels import FidelityQuantumKernel"
   ]
  },
  {
   "cell_type": "markdown",
   "id": "5422b6f8-66f9-434a-9a3c-f990329da81d",
   "metadata": {},
   "source": [
    "### Data Processing"
   ]
  },
  {
   "cell_type": "code",
   "execution_count": 6,
   "id": "1f11fc8f-422d-4a03-873f-51864312dd36",
   "metadata": {},
   "outputs": [],
   "source": [
    "def prepare_dataset(y_scaler,X,y, test_ratio):\n",
    "    X_scaler = MinMaxScaler()\n",
    "    y_scaled = y_scaler.fit_transform(y.reshape(-1,1))\n",
    "    \n",
    "    X_train, X_test, y_train, y_test = train_test_split(X, y_scaled, test_size=test_ratio, shuffle=True)\n",
    "    element_test = X_test[:,0]\n",
    "    X=X[:,1:]\n",
    "    max_arr=np.max(X,axis=0)\n",
    "    X=X/max_arr\n",
    "    sample_train=X_train[:,1:]/max_arr\n",
    "    sample_test=X_test[:,1:]/max_arr\n",
    "\n",
    "    samples = np.append(sample_train, sample_test, axis=0)\n",
    "    minmax_scale = MinMaxScaler((-1, 1)).fit(samples)\n",
    "    X_train = minmax_scale.transform(sample_train)\n",
    "    X_test = minmax_scale.transform(sample_test)\n",
    "    \n",
    "    return X_train, y_train, X_test, y_test, element_test"
   ]
  },
  {
   "cell_type": "markdown",
   "id": "5dda7101-2204-4c28-8d52-b631dc32b087",
   "metadata": {},
   "source": [
    "### Feature Map"
   ]
  },
  {
   "cell_type": "code",
   "execution_count": 23,
   "id": "d35b377e-ce2d-42e0-9168-b6c146d23975",
   "metadata": {},
   "outputs": [],
   "source": [
    "def config_feature_map(feature_dimension, reps, entanglement): # assume ZZFeatureMap\n",
    "    return ZZFeatureMap(feature_dimension=feature_dimension, reps=reps, entanglement=entanglement, insert_barriers=True)"
   ]
  },
  {
   "cell_type": "markdown",
   "id": "a5f61305-9d4f-42dc-9ca8-4d59a5192834",
   "metadata": {},
   "source": [
    "### Kernel"
   ]
  },
  {
   "cell_type": "code",
   "execution_count": 17,
   "id": "90d806c6-27d4-4ea1-875b-487a0798b427",
   "metadata": {},
   "outputs": [],
   "source": [
    "def reconfig_quantum_kernel(feature_map, C, epsilon):\n",
    "    kernel = FidelityQuantumKernel(feature_map=feature_map)\n",
    "    qsvr = QSVR(C=C, epsilon=epsilon, quantum_kernel=kernel)\n",
    "    return qsvr"
   ]
  },
  {
   "cell_type": "markdown",
   "id": "5c065bce-e4bd-404f-9ae7-92ad4dc5ef7f",
   "metadata": {},
   "source": [
    "### Training"
   ]
  },
  {
   "cell_type": "code",
   "execution_count": 18,
   "id": "e41c5197-9b81-4a85-8518-a08f77d36f2a",
   "metadata": {},
   "outputs": [],
   "source": [
    "def train(qsvr,X_train, y_train, X_test):\n",
    "    qsvr.fit(X_train, y_train)\n",
    "    y_hat = qsvr.predict(X_test)\n",
    "    return y_hat"
   ]
  },
  {
   "cell_type": "markdown",
   "id": "b14dc4cb-47e7-4ab4-b605-432c8c19baeb",
   "metadata": {},
   "source": [
    "### Graphing"
   ]
  },
  {
   "cell_type": "code",
   "execution_count": 19,
   "id": "758d5399-3908-46e1-ba2a-782b2a702589",
   "metadata": {},
   "outputs": [],
   "source": [
    "def graph(y_scaler, y_hat, y_test, message):\n",
    "    y_hat = y_scaler.inverse_transform(y_hat.reshape(-1,1))\n",
    "    y_test = y_scaler.inverse_transform(y_test.reshape(-1,1))\n",
    "    plt.plot(elementtest, y_hat, 'o')\n",
    "    plt.plot(elementtest, y_test, 'o')\n",
    "    \n",
    "    plt.xlabel(\"Element\")\n",
    "    plt.ylabel(\"SFE\")\n",
    "    plt.legend([\"Predicted\", \"Actual\"], bbox_to_anchor=(1, 0.9), loc='upper left')\n",
    "    plt.savefig(message,dpi=300)\n",
    "    # plt.show()\n",
    "    plt.clf()\n",
    "    return y_test, y_hat"
   ]
  },
  {
   "cell_type": "markdown",
   "id": "6c27ed8f-9c3c-486a-8c64-8d1c3346aba0",
   "metadata": {},
   "source": [
    "### Accuracy"
   ]
  },
  {
   "cell_type": "code",
   "execution_count": 20,
   "id": "fe418eb6-1ba2-4b01-b839-514ebd70233f",
   "metadata": {},
   "outputs": [],
   "source": [
    "def accuracy(y_test, y_hat):\n",
    "    return r2_score(y_test, y_hat)"
   ]
  },
  {
   "cell_type": "markdown",
   "id": "fc50b99b-b60e-422c-a0e0-678f11c0538b",
   "metadata": {},
   "source": [
    "### Main Logic"
   ]
  },
  {
   "cell_type": "code",
   "execution_count": 32,
   "id": "b3e909e5-6f17-45c2-9cb5-a9d2537645d3",
   "metadata": {},
   "outputs": [],
   "source": [
    "def main():\n",
    "    df = pd.read_csv(\"qml_training-validation-data.csv\")\n",
    "    X = df[['Element', 'el_neg', 'B/GPa', 'Volume/A^3']].values\n",
    "    y = df['SFE/mJm^-3'].values\n",
    "\n",
    "    y_scaler = MinMaxScaler()\n",
    "    \n",
    "    test_ratio = 0.2 #0.1\n",
    "    \n",
    "    # reps = 1\n",
    "    # reps_end = 2 #5 #11\n",
    "    # C = 1\n",
    "    # C_end = 2 #10 #21\n",
    "    reps_range = [1]\n",
    "    C_range = [1, 10, 20, 30, 40, 50, 60, 70, 80, 90, 100]\n",
    "    epsilon_range = [0.01,0.001]\n",
    "    entanglement_options = \"circular\"\n",
    "    iter = 10 #20 #30\n",
    "    \n",
    "    warnings.filterwarnings('ignore')\n",
    "    \n",
    "    template = \"QSVR/zz/QVSR_zz_\"\n",
    "    df = pd.DataFrame(columns=['reps', 'C', 'epsilon', 'entanglement', 'i', 'r^2'])\n",
    "    df_avg = pd.DataFrame(columns=['reps', 'C', 'epsilon', 'entanglement', 'r^2'])\n",
    "\n",
    "    y_test_all, y_hat_all=[],[]\n",
    "    \n",
    "    for c in C_range: # C\n",
    "        print(f'current C is: {c}')\n",
    "        for reps in reps_range:# reps\n",
    "            for eps in epsilon_range:\n",
    "                # add loop for entanglement options if needed\n",
    "\n",
    "                accuracy_avg = []\n",
    "                for i in range(iter):\n",
    "                    # message = ''\n",
    "                    # message += template\n",
    "                    # message += f\"{reps_z}_{j}_i{i}_prediction.png\"\n",
    "                    \n",
    "                    X_train, y_train, X_test, y_test, elementtest = prepare_dataset(y_scaler,X,y, test_ratio)\n",
    "                    feature_map = config_feature_map(3, reps, entanglement_options)\n",
    "                    qsvr=reconfig_quantum_kernel(feature_map, c, eps)\n",
    "                    y_hat = train(qsvr,X_train, y_train, X_test)\n",
    "                    # y_test, y_hat = graph(y_scaler,y_hat, y_test, message)\n",
    "                    y_test_all.append(y_test), y_hat_all.append(y_hat)\n",
    "                    acc = accuracy(y_test, y_hat)\n",
    "                    accuracy_avg.append(acc)\n",
    "                    new_row = {'reps': reps, 'C': c, 'epsilon': eps, 'entanglement': entanglement_options, 'i': i, 'r^2': acc}\n",
    "                    df.loc[len(df)] = new_row\n",
    "                df_avg.loc[len(df_avg)] = {'reps': reps, 'C': c, 'epsilon': eps, 'entanglement': entanglement_options, 'r^2': sum(accuracy_avg)/iter}\n",
    "\n",
    "    date = '4_16_25'\n",
    "    \n",
    "    y_test_all=np.concatenate(y_test_all)\n",
    "    y_hat_all=np.concatenate(y_hat_all)\n",
    "    # print(\"R2 score: \",accuracy(y_test_all, y_hat_all))\n",
    "    plt.scatter(y_test_all,y_hat_all)\n",
    "    plt.savefig(f\"QSVR/zz/{date}_all.png\",dpi=300)\n",
    "    df.to_csv(f'QSVR/zz/result/{date}_all.csv', index=False) \n",
    "    df_avg.to_csv(f'QSVR/zz/result/{date}_averaged.csv', index=False) \n"
   ]
  },
  {
   "cell_type": "markdown",
   "id": "5d0a4d43-2dd0-4c82-a6c7-4258b5d69d30",
   "metadata": {},
   "source": [
    "### Run `main()` to Start"
   ]
  },
  {
   "cell_type": "code",
   "execution_count": 33,
   "id": "8041e05c-f52b-4be2-ba53-517918bb2443",
   "metadata": {},
   "outputs": [
    {
     "name": "stdout",
     "output_type": "stream",
     "text": [
      "current C is: 1\n",
      "current C is: 10\n",
      "current C is: 20\n",
      "current C is: 30\n",
      "current C is: 40\n",
      "current C is: 50\n",
      "current C is: 60\n",
      "current C is: 70\n",
      "current C is: 80\n",
      "current C is: 90\n",
      "current C is: 100\n"
     ]
    },
    {
     "data": {
      "image/png": "[encoded data removed]",
      "text/plain": [
       "<Figure size 640x480 with 1 Axes>"
      ]
     },
     "metadata": {},
     "output_type": "display_data"
    }
   ],
   "source": [
    "main()"
   ]
  },
  {
   "cell_type": "code",
   "execution_count": 34,
   "id": "f5580bc9-9aab-4fd3-a7c2-013508b598af",
   "metadata": {},
   "outputs": [],
   "source": [
    "# seems like C can't be too small, epsilon preferably 0.1 to 0.001, \n",
    "# https://www.ibm.com/think/topics/hyperparameter-tuning\n",
    "# lower C allows for higher tolerance and a smoother boundary\n",
    "# reps is the number repetition of the circuit, not sure if it will lead "
   ]
  },
  {
   "cell_type": "code",
   "execution_count": 35,
   "id": "c8dd2c06-5470-4d49-9da1-3dbcc6f61622",
   "metadata": {},
   "outputs": [],
   "source": [
    "# Through two runs, I observe the following reps, C, and epsilon values that will provide a strong correlation (>0.70)\n",
    "# reps = 1 or 2, preferably 1;  C = 1, 10, or 100; epsilon = 0.01 or 0.001 (makes sense as smaller step size lead to better result)"
   ]
  },
  {
   "cell_type": "code",
   "execution_count": null,
   "id": "f35e33d9-0fcd-4130-a740-66de1c9a9342",
   "metadata": {},
   "outputs": [],
   "source": []
  }
 ],
 "metadata": {
  "kernelspec": {
   "display_name": "my_env",
   "language": "python",
   "name": "my_env"
  },
  "language_info": {
   "codemirror_mode": {
    "name": "ipython",
    "version": 3
   },
   "file_extension": ".py",
   "mimetype": "text/x-python",
   "name": "python",
   "nbconvert_exporter": "python",
   "pygments_lexer": "ipython3",
   "version": "3.12.7"
  }
 },
 "nbformat": 4,
 "nbformat_minor": 5
}
