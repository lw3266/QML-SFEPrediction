{
 "cells": [
  {
   "cell_type": "markdown",
   "id": "d269f38e-5627-42eb-9d75-4f5b01cf7d2d",
   "metadata": {},
   "source": [
    "# Quantum Support Vector Machine\n",
    "\n",
    "SVM but uses quantum kernels."
   ]
  },
  {
   "cell_type": "markdown",
   "id": "5ad44d56-6d52-4542-9bff-8f2935df5f51",
   "metadata": {},
   "source": [
    "## Part I - Regression"
   ]
  },
  {
   "cell_type": "markdown",
   "id": "3fbb41e2-d53c-4191-88a4-72737ae141d4",
   "metadata": {},
   "source": [
    "### Generic Imports"
   ]
  },
  {
   "cell_type": "code",
   "execution_count": 1,
   "id": "5ce758ee-60d5-4bc6-8be7-4b7e658112d5",
   "metadata": {},
   "outputs": [],
   "source": [
    "import warnings\n",
    "import pandas as pd\n",
    "import numpy as np\n",
    "import seaborn as sns\n",
    "import matplotlib.pyplot as plt\n",
    "from scipy.stats import pearsonr\n",
    "from sklearn import linear_model, model_selection\n",
    "from sklearn.metrics import r2_score\n",
    "from sklearn.mixture import GaussianMixture\n",
    "from sklearn.model_selection import train_test_split, RepeatedKFold\n",
    "from sklearn.preprocessing import MinMaxScaler, StandardScaler #StandardScaler is sensitive to outlier"
   ]
  },
  {
   "cell_type": "markdown",
   "id": "f900e9bc-4631-4a61-a0c5-fba71a4fd951",
   "metadata": {},
   "source": [
    "### Verify File Content"
   ]
  },
  {
   "cell_type": "code",
   "execution_count": 2,
   "id": "144331d2-1702-4bfe-9bf3-9cfae926606a",
   "metadata": {},
   "outputs": [
    {
     "data": {
      "text/html": [
       "<div>\n",
       "<style scoped>\n",
       "    .dataframe tbody tr th:only-of-type {\n",
       "        vertical-align: middle;\n",
       "    }\n",
       "\n",
       "    .dataframe tbody tr th {\n",
       "        vertical-align: top;\n",
       "    }\n",
       "\n",
       "    .dataframe thead th {\n",
       "        text-align: right;\n",
       "    }\n",
       "</style>\n",
       "<table border=\"1\" class=\"dataframe\">\n",
       "  <thead>\n",
       "    <tr style=\"text-align: right;\">\n",
       "      <th></th>\n",
       "      <th>el_neg</th>\n",
       "      <th>B/GPa</th>\n",
       "      <th>Volume/A^3</th>\n",
       "      <th>SFE/mJm^-3</th>\n",
       "    </tr>\n",
       "    <tr>\n",
       "      <th>Element</th>\n",
       "      <th></th>\n",
       "      <th></th>\n",
       "      <th></th>\n",
       "      <th></th>\n",
       "    </tr>\n",
       "  </thead>\n",
       "  <tbody>\n",
       "    <tr>\n",
       "      <th>Be</th>\n",
       "      <td>1.57</td>\n",
       "      <td>130.0</td>\n",
       "      <td>8.09</td>\n",
       "      <td>23.48</td>\n",
       "    </tr>\n",
       "    <tr>\n",
       "      <th>Sc</th>\n",
       "      <td>1.36</td>\n",
       "      <td>57.0</td>\n",
       "      <td>25.00</td>\n",
       "      <td>16.16</td>\n",
       "    </tr>\n",
       "    <tr>\n",
       "      <th>Ti</th>\n",
       "      <td>1.54</td>\n",
       "      <td>110.0</td>\n",
       "      <td>17.60</td>\n",
       "      <td>24.44</td>\n",
       "    </tr>\n",
       "    <tr>\n",
       "      <th>Co</th>\n",
       "      <td>1.88</td>\n",
       "      <td>180.0</td>\n",
       "      <td>11.00</td>\n",
       "      <td>37.64</td>\n",
       "    </tr>\n",
       "    <tr>\n",
       "      <th>Zn</th>\n",
       "      <td>1.65</td>\n",
       "      <td>70.0</td>\n",
       "      <td>15.20</td>\n",
       "      <td>20.98</td>\n",
       "    </tr>\n",
       "    <tr>\n",
       "      <th>Y</th>\n",
       "      <td>1.22</td>\n",
       "      <td>41.0</td>\n",
       "      <td>33.00</td>\n",
       "      <td>8.52</td>\n",
       "    </tr>\n",
       "  </tbody>\n",
       "</table>\n",
       "</div>"
      ],
      "text/plain": [
       "         el_neg  B/GPa  Volume/A^3  SFE/mJm^-3\n",
       "Element                                       \n",
       "Be         1.57  130.0        8.09       23.48\n",
       "Sc         1.36   57.0       25.00       16.16\n",
       "Ti         1.54  110.0       17.60       24.44\n",
       "Co         1.88  180.0       11.00       37.64\n",
       "Zn         1.65   70.0       15.20       20.98\n",
       "Y          1.22   41.0       33.00        8.52"
      ]
     },
     "execution_count": 2,
     "metadata": {},
     "output_type": "execute_result"
    }
   ],
   "source": [
    "df = pd.read_csv(\"qml_training-validation-data.csv\", index_col = 0)\n",
    "df.head(6)"
   ]
  },
  {
   "cell_type": "markdown",
   "id": "579dcc03-526c-47b1-ae6a-cfdf7607c02d",
   "metadata": {},
   "source": [
    "### Qiskit Imports"
   ]
  },
  {
   "cell_type": "code",
   "execution_count": 3,
   "id": "d8834ae6-21e6-4b63-9873-345b43577f99",
   "metadata": {},
   "outputs": [],
   "source": [
    "from IPython.display import clear_output\n",
    "\n",
    "from qiskit_aer import Aer\n",
    "from qiskit.circuit.library import PauliFeatureMap, RealAmplitudes, ZZFeatureMap\n",
    "from qiskit_machine_learning.algorithms import VQR\n",
    "from qiskit_machine_learning.datasets import ad_hoc_data\n",
    "from qiskit_machine_learning.algorithms import QSVR,QSVC\n",
    "from qiskit_machine_learning.kernels import FidelityQuantumKernel"
   ]
  },
  {
   "cell_type": "markdown",
   "id": "5422b6f8-66f9-434a-9a3c-f990329da81d",
   "metadata": {},
   "source": [
    "### Data Processing"
   ]
  },
  {
   "cell_type": "code",
   "execution_count": 4,
   "id": "1f11fc8f-422d-4a03-873f-51864312dd36",
   "metadata": {},
   "outputs": [],
   "source": [
    "def prepare_dataset(y_scaler,X,y, test_ratio):\n",
    "    X_scaler = MinMaxScaler()\n",
    "    \n",
    "    X_train, X_test, y_train, y_test = train_test_split(X, y, test_size=test_ratio, shuffle=True)\n",
    "    element_test = X_test[:,0]\n",
    "    X=X[:,1:]\n",
    "    max_arr=np.max(X,axis=0)\n",
    "    X=X/max_arr\n",
    "    sample_train=X_train[:,1:]/max_arr\n",
    "    sample_test=X_test[:,1:]/max_arr\n",
    "\n",
    "    samples = np.append(sample_train, sample_test, axis=0)\n",
    "    minmax_scale = MinMaxScaler((-1, 1)).fit(samples)\n",
    "    X_train = minmax_scale.transform(sample_train)\n",
    "    X_test = minmax_scale.transform(sample_test)\n",
    "    \n",
    "    return X_train, y_train, X_test, y_test, element_test"
   ]
  },
  {
   "cell_type": "code",
   "execution_count": 5,
   "id": "9f3fe2ee-93df-4dc7-bc56-ed0e16981fe8",
   "metadata": {},
   "outputs": [],
   "source": [
    "def prepare_dataset_k_fold(X, y, train_indices, test_indices):\n",
    "    X_scaler = MinMaxScaler()\n",
    "    X_train, X_test = X[train_indices], X[test_indices]\n",
    "    y_train, y_test = y[train_indices], y[test_indices]\n",
    "    element_test = X_test[:,0]\n",
    "    X=X[:,1:]\n",
    "    max_arr=np.max(X,axis=0)\n",
    "    X=X/max_arr\n",
    "    sample_train=X_train[:,1:]/max_arr\n",
    "    sample_test=X_test[:,1:]/max_arr\n",
    "\n",
    "    samples = np.append(sample_train, sample_test, axis=0)\n",
    "    minmax_scale = MinMaxScaler((-1, 1)).fit(samples)\n",
    "    X_train = minmax_scale.transform(sample_train)\n",
    "    X_test = minmax_scale.transform(sample_test)\n",
    "    \n",
    "    return X_train, y_train, X_test, y_test, element_test"
   ]
  },
  {
   "cell_type": "markdown",
   "id": "5dda7101-2204-4c28-8d52-b631dc32b087",
   "metadata": {},
   "source": [
    "### Feature Map"
   ]
  },
  {
   "cell_type": "code",
   "execution_count": 6,
   "id": "d35b377e-ce2d-42e0-9168-b6c146d23975",
   "metadata": {},
   "outputs": [],
   "source": [
    "def config_feature_map(feature_dimension, reps, entanglement): # assume ZZFeatureMap\n",
    "    # return ZZFeatureMap(feature_dimension=feature_dimension, reps=reps, entanglement=entanglement, insert_barriers=True)\n",
    "    return PauliFeatureMap(feature_dimension=feature_dimension, reps=reps, entanglement=entanglement)"
   ]
  },
  {
   "cell_type": "markdown",
   "id": "a5f61305-9d4f-42dc-9ca8-4d59a5192834",
   "metadata": {},
   "source": [
    "### Kernel"
   ]
  },
  {
   "cell_type": "code",
   "execution_count": 7,
   "id": "90d806c6-27d4-4ea1-875b-487a0798b427",
   "metadata": {},
   "outputs": [],
   "source": [
    "def reconfig_quantum_kernel_qsvr(feature_map, C):\n",
    "    kernel = FidelityQuantumKernel(feature_map=feature_map)\n",
    "    qsvr = QSVR(C=C, quantum_kernel=kernel)\n",
    "    return qsvr"
   ]
  },
  {
   "cell_type": "markdown",
   "id": "5c065bce-e4bd-404f-9ae7-92ad4dc5ef7f",
   "metadata": {},
   "source": [
    "### Training"
   ]
  },
  {
   "cell_type": "code",
   "execution_count": 8,
   "id": "e41c5197-9b81-4a85-8518-a08f77d36f2a",
   "metadata": {},
   "outputs": [],
   "source": [
    "def train(qsv_ ,X_train, y_train, X_test):\n",
    "    qsv_.fit(X_train, y_train)\n",
    "    y_hat = qsv_.predict(X_test)\n",
    "    return y_hat"
   ]
  },
  {
   "cell_type": "markdown",
   "id": "a8115fbf-e7bd-4cdc-9c1b-508a37319fef",
   "metadata": {},
   "source": [
    "### Inverse Transform"
   ]
  },
  {
   "cell_type": "code",
   "execution_count": 9,
   "id": "964af46c-ee63-462f-b80c-b7d0073cd316",
   "metadata": {},
   "outputs": [],
   "source": [
    "def inverse_transform(y_scaler, y_test, y_hat):\n",
    "    y_hat = y_scaler.inverse_transform(y_hat.reshape(-1,1))\n",
    "    y_test = y_scaler.inverse_transform(y_test.reshape(-1,1))\n",
    "    return y_test, y_hat"
   ]
  },
  {
   "cell_type": "markdown",
   "id": "b14dc4cb-47e7-4ab4-b605-432c8c19baeb",
   "metadata": {},
   "source": [
    "### Graphing"
   ]
  },
  {
   "cell_type": "code",
   "execution_count": 10,
   "id": "758d5399-3908-46e1-ba2a-782b2a702589",
   "metadata": {},
   "outputs": [],
   "source": [
    "# def graph(y_scaler, y_hat, y_test, message):\n",
    "#     plt.plot(elementtest, y_hat, 'o')\n",
    "#     plt.plot(elementtest, y_test, 'o')\n",
    "    \n",
    "#     plt.xlabel(\"Element\")\n",
    "#     plt.ylabel(\"SFE\")\n",
    "#     plt.legend([\"Predicted\", \"Actual\"], bbox_to_anchor=(1, 0.9), loc='upper left')\n",
    "#     plt.savefig(message,dpi=300)\n",
    "#     # plt.show()\n",
    "#     plt.clf()"
   ]
  },
  {
   "cell_type": "code",
   "execution_count": 11,
   "id": "2d396f2e-b358-4e10-804d-dafe6ee1470b",
   "metadata": {},
   "outputs": [],
   "source": [
    "# reload the data from a CSV file and graph\n",
    "def load_data_and_graph(file_path, date):\n",
    "    df = pd.read_csv(file_path)\n",
    "    graph_facet_qsvr(df, date)\n",
    "\n",
    "# load_data_and_graph('QSVR/zz/result/4_17_25_1_all.csv', '4_17_25')"
   ]
  },
  {
   "cell_type": "code",
   "execution_count": 12,
   "id": "4c16fcfd-e667-4fc0-a3e5-5f0aa7699de4",
   "metadata": {},
   "outputs": [],
   "source": [
    "def save_each_run(y_test, y_hat, element_test, message):\n",
    "    plt.plot(element_test, y_hat, 'o')\n",
    "    plt.plot(element_test, y_test, 'o')\n",
    "    \n",
    "    plt.xlabel(\"Element\")\n",
    "    plt.ylabel(\"SFE\")\n",
    "    plt.legend([\"Predicted\", \"Actual\"], bbox_to_anchor=(1, 0.9), loc='upper left')\n",
    "    plt.savefig(message, dpi=300)\n",
    "    plt.close()"
   ]
  },
  {
   "cell_type": "markdown",
   "id": "6c27ed8f-9c3c-486a-8c64-8d1c3346aba0",
   "metadata": {},
   "source": [
    "### Accuracy"
   ]
  },
  {
   "cell_type": "code",
   "execution_count": 13,
   "id": "fe418eb6-1ba2-4b01-b839-514ebd70233f",
   "metadata": {},
   "outputs": [],
   "source": [
    "def accuracy_qsvr(y_test, y_hat):\n",
    "    r, _ = pearsonr(y_test, y_hat)\n",
    "    return r[0]**2\n",
    "    # return r2_score(y_test, y_hat)"
   ]
  },
  {
   "cell_type": "markdown",
   "id": "fc50b99b-b60e-422c-a0e0-678f11c0538b",
   "metadata": {},
   "source": [
    "### Main Logic"
   ]
  },
  {
   "cell_type": "code",
   "execution_count": 14,
   "id": "b3e909e5-6f17-45c2-9cb5-a9d2537645d3",
   "metadata": {},
   "outputs": [],
   "source": [
    "def main_qsvr(date):\n",
    "    df = pd.read_csv(\"qml_training-validation-data.csv\")\n",
    "    X = df[['Element', 'el_neg', 'B/GPa', 'Volume/A^3']].values\n",
    "    y = df['SFE/mJm^-3'].values\n",
    "\n",
    "    y_scaler = MinMaxScaler()\n",
    "    y = y_scaler.fit_transform(y.reshape(-1,1))\n",
    "    \n",
    "    test_ratio = 0.2 #0.1\n",
    "\n",
    "    reps_range = [1,2,3,4,5]\n",
    "    C_range = [0.1,1,10,100]\n",
    "    entanglement_options = [\"full\", \"linear\", \"circular\"]\n",
    "    iter = 20 #30\n",
    "    \n",
    "    warnings.filterwarnings('ignore')\n",
    "    \n",
    "    template = f\"QSVR/zz/figure/{date}/QVSR_zz_\"\n",
    "    # df = pd.DataFrame(columns=['reps', 'C', 'entanglement', 'element test', 'iteration', 'r^2'])\n",
    "    df = pd.DataFrame(columns=['reps', 'C', 'entanglement', 'element test', 'iteration', 'actual', 'predicted'])\n",
    "\n",
    "    # df_avg = pd.DataFrame(columns=['reps', 'C', 'entanglement', 'element test', 'r^2'])\n",
    "\n",
    "    rkf = RepeatedKFold(n_splits=X.shape[0], n_repeats=3, random_state=42)\n",
    "\n",
    "    y_test_all, y_hat_all=[],[]\n",
    "    \n",
    "    for C in C_range:\n",
    "        print(f'current C is: {C}')\n",
    "        for reps in reps_range:\n",
    "            for entanglement in entanglement_options:\n",
    "                # accuracy_avg = []\n",
    "                i = 0\n",
    "                for train_indices, test_indices in rkf.split(X):\n",
    "                # for i in range(iter):\n",
    "                    # message = ''\n",
    "                    # message += template\n",
    "                    # message += f\"{C}_{reps}_{eps}_{entanglement}_prediction_#{i}.png\"\n",
    "                    \n",
    "                    # X_train, y_train, X_test, y_test, element_test = prepare_dataset(y_scaler,X,y, test_ratio)\n",
    "                    X_train, y_train, X_test, y_test, element_test = prepare_dataset_k_fold(X, y, train_indices, test_indices)\n",
    "                    \n",
    "                    feature_map = config_feature_map(3, reps, entanglement)\n",
    "                    qsvr=reconfig_quantum_kernel_qsvr(feature_map, C)\n",
    "                    y_hat = train(qsvr,X_train, y_train, X_test)\n",
    "                    y_test, y_hat = inverse_transform(y_scaler, y_test, y_hat)\n",
    "                    # y_test, y_hat = graph(y_scaler,y_hat, y_test, message)\n",
    "                    y_test_all.append(y_test), y_hat_all.append(y_hat)\n",
    "                    # acc = accuracy_qsvr(y_test, y_hat)\n",
    "                    \n",
    "                    # save_each_run(y_test, y_hat, element_test, message)\n",
    "                    \n",
    "                    # accuracy_avg.append(acc)\n",
    "                    # new_row = {'reps': reps, \n",
    "                    #            'C': C, \n",
    "                    #            'entanglement': entanglement,\n",
    "                    #            'element test': element_test,\n",
    "                    #            'iteration': i, \n",
    "                    #            'r^2': acc}\n",
    "                    new_row = {'reps': reps, \n",
    "                               'C': C, \n",
    "                               'entanglement': entanglement,\n",
    "                               'element test': element_test,\n",
    "                               'iteration': i, \n",
    "                               'actual': y_test[0][0],\n",
    "                               'predicted': y_hat[0][0]}\n",
    "                    df.loc[len(df)] = new_row\n",
    "                    i+=1\n",
    "\n",
    "                # df_avg.loc[len(df_avg)] = {'reps': reps, \n",
    "                #                            'C': C, \n",
    "                #                            'entanglement': entanglement, \n",
    "                #                            'element test': element_test,\n",
    "                #                            'r^2': sum(accuracy_avg)/(i+1)}\n",
    "    \n",
    "    # y_test_all=np.concatenate(y_test_all)\n",
    "    # y_hat_all=np.concatenate(y_hat_all)\n",
    "    # print(\"R2 score: \",accuracy(y_test_all, y_hat_all))\n",
    "    \n",
    "    # plt.scatter(y_test_all,y_hat_all)\n",
    "    \n",
    "    # plt.savefig(f\"QSVR/zz/figure/{date}_all.png\",dpi=300)\n",
    "\n",
    "    df.to_csv(f'QSVR/zz/result/{date}_all.csv', index=False) \n",
    "    # df_avg.to_csv(f'QSVR/zz/result/{date}_averaged.csv', index=False)"
   ]
  },
  {
   "cell_type": "markdown",
   "id": "5d0a4d43-2dd0-4c82-a6c7-4258b5d69d30",
   "metadata": {},
   "source": [
    "### Run `main()` to Start"
   ]
  },
  {
   "cell_type": "code",
   "execution_count": null,
   "id": "8041e05c-f52b-4be2-ba53-517918bb2443",
   "metadata": {},
   "outputs": [
    {
     "name": "stdout",
     "output_type": "stream",
     "text": [
      "mkdir: cannot create directory 'QSVR/zz/figure/5_02_25_0': File exists\n",
      "current C is: 0.1\n"
     ]
    }
   ],
   "source": [
    "date = '5_02_25_0'\n",
    "! mkdir QSVR/zz/figure/{date}\n",
    "main_qsvr(date)"
   ]
  },
  {
   "cell_type": "markdown",
   "id": "2587164d-df97-4afd-a960-4392130c2ea7",
   "metadata": {},
   "source": [
    "## Classification"
   ]
  },
  {
   "cell_type": "code",
   "execution_count": 15,
   "id": "5b305e8d-d6dd-4328-afbf-880d14589387",
   "metadata": {},
   "outputs": [],
   "source": [
    "def reconfig_quantum_kernel_qsvc(feature_map, C):\n",
    "    kernel = FidelityQuantumKernel(feature_map=feature_map)\n",
    "    qsvc = QSVC(C=C, quantum_kernel=kernel)\n",
    "    return qsvc"
   ]
  },
  {
   "cell_type": "code",
   "execution_count": 16,
   "id": "817e06ee-516c-4d44-9777-01f29b9ede3f",
   "metadata": {},
   "outputs": [],
   "source": [
    "def accuracy_qsvc(y_test, y_hat):\n",
    "    agree=0\n",
    "    for i in range(len(y_test)):\n",
    "        if np.round(y_test[i]-y_hat[i],1)==0:\n",
    "            agree+=1\n",
    "    return agree/len(y_test)"
   ]
  },
  {
   "cell_type": "code",
   "execution_count": 17,
   "id": "0e02347b-aab0-4764-8425-9e15d8c89ecb",
   "metadata": {},
   "outputs": [],
   "source": [
    "def process(y):\n",
    "    for i in range(0,len(y)): \n",
    "        if y[i]>19: y[i]=0\n",
    "        else: y[i]=1\n",
    "    return y"
   ]
  },
  {
   "cell_type": "markdown",
   "id": "73b1edb6-6bd8-4827-84fe-bfe521c3d11e",
   "metadata": {},
   "source": [
    "### Main"
   ]
  },
  {
   "cell_type": "code",
   "execution_count": 18,
   "id": "8eac28a4-b987-4b52-8e14-7e4532b3ee79",
   "metadata": {},
   "outputs": [],
   "source": [
    "def box_plot_for_c(vertical_values, date):\n",
    "    plt.figure(figsize=(12,6))\n",
    "    plt.boxplot(vertical_values, positions=C_range, patch_artist=True)\n",
    "    num = len(vertical_values)\n",
    "    evenly_spaced = np.arange(num)\n",
    "    plt.xticks(evenly_spaced, vertical_values)\n",
    "    plt.xlabel('C')\n",
    "    plt.ylabel('Accuracy')\n",
    "    plt.title('Box Plot for Each C Value')\n",
    "    plt.savefig(f\"QSVC/zz/figure/box_plot_for_each_c_{date}.png\",dpi=300)\n",
    "    plt.close()"
   ]
  },
  {
   "cell_type": "code",
   "execution_count": 19,
   "id": "9d072c0b-5916-4def-9f58-15ecf8a99436",
   "metadata": {},
   "outputs": [],
   "source": [
    "def main_qsvc(date):\n",
    "    df = pd.read_csv(\"qml_training-validation-data.csv\")\n",
    "    X = df[['Element', 'el_neg', 'B/GPa', 'Volume/A^3']].values\n",
    "    y = df['SFE/mJm^-3'].values\n",
    "\n",
    "    y = process(y)\n",
    "    y_scaler = MinMaxScaler()\n",
    "    y = y_scaler.fit_transform(y.reshape(-1,1))\n",
    "    \n",
    "    test_ratio = 0.2 #0.1\n",
    "\n",
    "    reps_range = [1,2,3,4,5]\n",
    "    C_range = [0.1, 1, 10, 100]\n",
    "    entanglement_options = [\"full\", \"linear\", \"circular\"]\n",
    "    iter = 20\n",
    "    \n",
    "    warnings.filterwarnings('ignore')\n",
    "\n",
    "    template = f\"QSVC/zz/figure/{date}/QVSC_zz_\"\n",
    "    df = pd.DataFrame(columns=['reps', 'C', 'entanglement', 'iteration', 'accuracy'])\n",
    "    df_avg = pd.DataFrame(columns=['reps', 'C', 'entanglement', 'accuracy'])\n",
    "\n",
    "    y_test_all, y_hat_all=[],[]\n",
    "    \n",
    "    for C in C_range:\n",
    "        print(f\"C is: {C}\")\n",
    "        for reps in reps_range:# reps\n",
    "            for entanglement in entanglement_options:\n",
    "                accuracy_avg = []\n",
    "                for i in range(iter):\n",
    "                    # message = ''\n",
    "                    # message += template\n",
    "                    # message += f\"{C}_{reps}_{entanglement}_prediction_#{i}.png\"\n",
    "                    \n",
    "                    X_train, y_train, X_test, y_test, element_test = prepare_dataset(y_scaler, X, y, test_ratio)\n",
    "                    \n",
    "                    feature_map = config_feature_map(3, reps, entanglement_options)\n",
    "                    qsvc=reconfig_quantum_kernel_qsvc(feature_map, C)\n",
    "                    \n",
    "                    y_hat = train(qsvc,X_train, y_train, X_test)\n",
    "                    y_test, y_hat = inverse_transform(y_scaler, y_test, y_hat)\n",
    "\n",
    "                    acc = accuracy_qsvc(y_test, y_hat)\n",
    "                    # y_test_all.append(y_test), y_hat_all.append(y_hat)\n",
    "                    accuracy_avg.append(acc)\n",
    "                    new_row = {'reps': reps, \n",
    "                               'C': C, \n",
    "                               'entanglement': entanglement, \n",
    "                               'iteration': i, \n",
    "                               'accuracy': accuracy_qsvc(y_test, y_hat)}\n",
    "                    df.loc[len(df)] = new_row\n",
    "\n",
    "                df_avg.loc[len(df_avg)] = {'reps': reps, \n",
    "                                       'C': C, \n",
    "                                       'entanglement': entanglement, \n",
    "                                       'accuracy': sum(accuracy_avg)/iter}\n",
    "                    \n",
    "    # y_test_all=np.concatenate(y_test_all)\n",
    "    # y_hat_all=np.concatenate(y_hat_all)\n",
    "    # print(\"R2 score: \",accuracy(y_test_all, y_hat_all))\n",
    "    \n",
    "    # plt.scatter(y_test_all,y_hat_all)    \n",
    "    \n",
    "    df.to_csv(f'QSVC/zz/result/{date}_all.csv', index=False) \n",
    "    df_avg.to_csv(f'QSVC/zz/result/{date}_averaged.csv', index=False) "
   ]
  },
  {
   "cell_type": "code",
   "execution_count": 20,
   "id": "c663519c-05fe-4340-9a73-dc29999dadfe",
   "metadata": {},
   "outputs": [
    {
     "name": "stdout",
     "output_type": "stream",
     "text": [
      "mkdir: cannot create directory 'QSVC/zz/figure/5_02_25_0': File exists\n",
      "C is: 0.1\n",
      "C is: 1\n",
      "C is: 10\n",
      "C is: 100\n"
     ]
    }
   ],
   "source": [
    "date = '5_02_25_0'\n",
    "! mkdir QSVC/zz/figure/{date}\n",
    "main_qsvc(date)"
   ]
  },
  {
   "cell_type": "code",
   "execution_count": null,
   "id": "5df25d89-986a-406a-82e7-2a1213deb1e0",
   "metadata": {},
   "outputs": [],
   "source": [
    "# https://www.datasciencebase.com/supervised-ml/optimization-tuning/tuning-for-decision-trees-svms-other-algorithms/"
   ]
  },
  {
   "cell_type": "code",
   "execution_count": null,
   "id": "608e1fec-d499-4f8f-b094-92cc03f6f2a7",
   "metadata": {},
   "outputs": [],
   "source": []
  }
 ],
 "metadata": {
  "kernelspec": {
   "display_name": "my_env",
   "language": "python",
   "name": "my_env"
  },
  "language_info": {
   "codemirror_mode": {
    "name": "ipython",
    "version": 3
   },
   "file_extension": ".py",
   "mimetype": "text/x-python",
   "name": "python",
   "nbconvert_exporter": "python",
   "pygments_lexer": "ipython3",
   "version": "3.12.7"
  }
 },
 "nbformat": 4,
 "nbformat_minor": 5
}
