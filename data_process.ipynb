{
 "cells": [
  {
   "cell_type": "code",
   "execution_count": 9,
   "id": "139279d8-ff81-4db5-b93b-50f38fb2a487",
   "metadata": {},
   "outputs": [
    {
     "name": "stdout",
     "output_type": "stream",
     "text": [
      "4420\n"
     ]
    }
   ],
   "source": [
    "import pandas as pd\n",
    "\n",
    "# Load the CSV data into a pandas DataFrame\n",
    "# df = pd.read_csv('QSVR_data.csv', header=None)  # Replace with the path to your CSV file\n",
    "df = pd.read_csv('QSVR_data.csv')  # Replace with the path to your CSV file\n",
    "\n",
    "# Calculate the median of each row\n",
    "# df['row_median'] = df.median(axis=1)\n",
    "# df['row_mean'] = df.mean(axis=1)\n",
    "max = df['r^2'].idxmax()\n",
    "# Print the DataFrame with the median of each row\n",
    "print(max)\n"
   ]
  },
  {
   "cell_type": "markdown",
   "id": "cbbf6278-9cda-4009-ac16-6bfd001fa68e",
   "metadata": {},
   "source": [
    "### QSVR Averaging"
   ]
  },
  {
   "cell_type": "code",
   "execution_count": 6,
   "id": "72acd017-0274-4308-b4c1-f6aa8505b8dc",
   "metadata": {},
   "outputs": [
    {
     "name": "stdout",
     "output_type": "stream",
     "text": [
      "Averaged results have been saved.\n"
     ]
    },
    {
     "name": "stderr",
     "output_type": "stream",
     "text": [
      "/state/partition1/job-60362607/ipykernel_3424851/424186071.py:13: DeprecationWarning: DataFrameGroupBy.apply operated on the grouping columns. This behavior is deprecated, and in a future version of pandas the grouping columns will be excluded from the operation. Either pass `include_groups=False` to exclude the groupings or explicitly select the grouping columns after groupby to silence this warning.\n",
      "  r2_values = df.groupby('Group').apply(lambda group: pearsonr(group['actual'], group['predicted'])[0])\n"
     ]
    }
   ],
   "source": [
    "import pandas as pd\n",
    "from scipy.stats import pearsonr\n",
    "\n",
    "date = '5_02_25_0'\n",
    "template = f'QSVR/zz/result/{date}'\n",
    "df = pd.read_csv(template+'_all.csv')\n",
    "\n",
    "df = df.drop(columns=['iteration', 'element test'])\n",
    "\n",
    "df['Group'] = df.index // 63  # Create grouping index\n",
    "\n",
    "# Compute R² for each group\n",
    "r2_values = df.groupby('Group').apply(lambda group: pearsonr(group['actual'], group['predicted'])[0])\n",
    "\n",
    "# Create a new DataFrame to store results\n",
    "df_without_target_columns = df.drop(columns=['predicted', 'actual'])  # Drop specified columns\n",
    "final_df = df_without_target_columns.groupby('Group').agg(lambda x: x.iloc[0])  # Keep previous parameters\n",
    "final_df['accuracy'] = r2_values.values  # Store the computed R² values\n",
    "\n",
    "final_df.to_csv(template+'_averaged.csv', index=False)\n",
    "\n",
    "print(f\"Averaged results have been saved.\")\n"
   ]
  },
  {
   "cell_type": "markdown",
   "id": "de85e2e2-3072-4649-81b2-7040043f5ab7",
   "metadata": {},
   "source": [
    "### QNN Calculate Accuracy"
   ]
  },
  {
   "cell_type": "code",
   "execution_count": 5,
   "id": "2d58ed78-61ab-451d-94c5-61ddf5252559",
   "metadata": {},
   "outputs": [
    {
     "name": "stdout",
     "output_type": "stream",
     "text": [
      "        element test                         actual  \\\n",
      "0   ['Zn' 'Ho' 'Re']  [20.980001, 7.8199997, 35.35]   \n",
      "1   ['Tc' 'Nd' 'Dy']            [36.19, 0.25, 7.06]   \n",
      "2   ['Ti' 'Co' 'Zr']          [24.44, 37.64, 22.18]   \n",
      "3   ['Ru' 'Er' 'Lu']             [40.5, 8.45, 9.75]   \n",
      "4   ['Tb' 'Tm' 'Os']            [6.17, 8.96, 38.54]   \n",
      "5   ['Be' 'Pr' 'Tl']  [23.480001, 1.6500003, 22.09]   \n",
      "6    ['Sc' 'Y' 'Gd']             [16.16, 8.52, 5.2]   \n",
      "7   ['Be' 'Tc' 'Nd']       [23.480001, 36.19, 0.25]   \n",
      "8    ['Ti' 'Y' 'Re']           [24.44, 8.52, 35.35]   \n",
      "9   ['Zn' 'Tb' 'Tm']        [20.980001, 6.17, 8.96]   \n",
      "10  ['Pr' 'Ho' 'Er']   [1.6500003, 7.8199997, 8.45]   \n",
      "11  ['Sc' 'Gd' 'Dy']             [16.16, 5.2, 7.06]   \n",
      "12  ['Co' 'Lu' 'Os']           [37.64, 9.75, 38.54]   \n",
      "13  ['Zr' 'Ru' 'Tl']           [22.18, 40.5, 22.09]   \n",
      "14  ['Be' 'Zr' 'Os']      [23.480001, 22.18, 38.54]   \n",
      "15  ['Ru' 'Tb' 'Tl']            [40.5, 6.17, 22.09]   \n",
      "16  ['Zn' 'Nd' 'Re']       [20.980001, 0.25, 35.35]   \n",
      "17   ['Y' 'Pr' 'Gd']         [8.52, 1.6500003, 5.2]   \n",
      "18  ['Tc' 'Er' 'Lu']            [36.19, 8.45, 9.75]   \n",
      "19  ['Sc' 'Co' 'Tm']           [16.16, 37.64, 8.96]   \n",
      "20  ['Ti' 'Dy' 'Ho']       [24.44, 7.06, 7.8199997]   \n",
      "\n",
      "                            predicted  \\\n",
      "0   [20.336823, 18.125837, 20.264927]   \n",
      "1   [19.827312, 19.133072, 16.961908]   \n",
      "2    [17.305336, 17.06373, 14.627476]   \n",
      "3    [23.395779, 11.225971, 10.40245]   \n",
      "4      [16.337305, 8.888218, 19.0225]   \n",
      "5    [22.81216, 14.820758, 11.996253]   \n",
      "6   [20.797993, 16.441391, 15.959784]   \n",
      "7   [24.178448, 21.303957, 14.321505]   \n",
      "8   [13.897204, 14.655348, 24.480936]   \n",
      "9    [18.312414, 11.986952, 4.419799]   \n",
      "10    [14.02932, 7.6858945, 5.880916]   \n",
      "11    [19.41105, 11.364834, 8.644403]   \n",
      "12  [21.825233, 6.3391404, 19.708933]   \n",
      "13  [14.133261, 30.216703, 15.388684]   \n",
      "14  [26.005575, 13.503671, 20.649008]   \n",
      "15   [30.905598, 8.224243, 18.034336]   \n",
      "16  [20.08261, 10.4275055, 31.799726]   \n",
      "17    [8.740576, 12.603556, 7.006516]   \n",
      "18    [30.929058, 7.152325, 8.239002]   \n",
      "19    [16.53373, 24.907995, 8.110203]   \n",
      "20   [16.782452, 6.2942953, 6.769894]   \n",
      "\n",
      "                                                 info  accuracy  \n",
      "0   ['DATASET: qml_training-validation-data.csv, F...  0.118702  \n",
      "1                                                 NaN  0.008940  \n",
      "2                                                 NaN -2.810077  \n",
      "3                                                 NaN  0.543136  \n",
      "4                                                 NaN  0.247408  \n",
      "5                                                 NaN  0.076850  \n",
      "6                                                 NaN -2.166512  \n",
      "7                                                 NaN  0.367609  \n",
      "8                                                 NaN  0.266894  \n",
      "9                                                 NaN  0.502963  \n",
      "10                                                NaN -4.661918  \n",
      "11                                                NaN  0.257456  \n",
      "12                                                NaN -0.150245  \n",
      "13                                                NaN  0.042023  \n",
      "14                                                NaN -1.429207  \n",
      "15                                                NaN  0.809047  \n",
      "16                                                NaN  0.812136  \n",
      "17                                                NaN -4.222652  \n",
      "18                                                NaN  0.935431  \n",
      "19                                                NaN  0.633997  \n",
      "20                                                NaN  0.687352  \n"
     ]
    }
   ],
   "source": [
    "import pandas as pd\n",
    "import numpy as np\n",
    "import ast\n",
    "from scipy.stats import pearsonr\n",
    "from sklearn.metrics import r2_score\n",
    "\n",
    "file = 'QNN/regression/result/05_15_25_4.csv'\n",
    "df = pd.read_csv(file)\n",
    "\n",
    "actual = []\n",
    "predicted = []\n",
    "\n",
    "# for item in df['actual']:\n",
    "#     actual.append(np.array(ast.literal_eval(item)).flatten())\n",
    "\n",
    "# for item in df['predicted']:\n",
    "#     predicted.append(np.array(ast.literal_eval(item)).flatten())\n",
    "# actual = [item[0] for item in df['actual'].to_numpy()]\n",
    "\n",
    "# actual = np.array(actual)\n",
    "# predicted = np.array(predicted)\n",
    "\n",
    "# df['actual'] = pd.Series(actual.tolist())\n",
    "# df['predicted'] = pd.Series(predicted.tolist())\n",
    "\n",
    "def get_pearsonr(row):\n",
    "    r, _ = pearsonr(row['actual'], row['predicted'])\n",
    "    return r**2\n",
    "\n",
    "def get_r2_score(row):\n",
    "    return r2_score(row['actual'], row['predicted'])\n",
    "\n",
    "# df['accuracy'] = df.apply(get_pearsonr, axis=1)\n",
    "\n",
    "def convert_to_float_list(string):\n",
    "    string = string.strip('[]')\n",
    "    # Split by space, then convert each item to float\n",
    "    return np.array([float(x) for x in string.split()])\n",
    "    \n",
    "df['actual'] = df['actual'].apply(convert_to_float_list)\n",
    "df['predicted'] = df['predicted'].apply(convert_to_float_list)\n",
    "\n",
    "df['accuracy'] = df.apply(get_r2_score, axis=1)\n",
    "\n",
    "print(df)\n",
    "\n",
    "df.to_csv(file, index=False)"
   ]
  },
  {
   "cell_type": "code",
   "execution_count": null,
   "id": "5a3f0d3c-c81f-4e08-b9dd-ad033c15c69d",
   "metadata": {},
   "outputs": [],
   "source": []
  },
  {
   "cell_type": "code",
   "execution_count": null,
   "id": "0191700c-5053-4957-81a4-d896778a4fa7",
   "metadata": {},
   "outputs": [],
   "source": []
  }
 ],
 "metadata": {
  "kernelspec": {
   "display_name": "my_env",
   "language": "python",
   "name": "my_env"
  },
  "language_info": {
   "codemirror_mode": {
    "name": "ipython",
    "version": 3
   },
   "file_extension": ".py",
   "mimetype": "text/x-python",
   "name": "python",
   "nbconvert_exporter": "python",
   "pygments_lexer": "ipython3",
   "version": "3.12.7"
  }
 },
 "nbformat": 4,
 "nbformat_minor": 5
}
