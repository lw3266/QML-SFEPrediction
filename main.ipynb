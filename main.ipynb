{
 "cells": [
  {
   "cell_type": "markdown",
   "metadata": {
    "id": "0e5_3W3Geo7K"
   },
   "source": [
    "# Classical ML\n",
    "\n",
    "> singularity exec --overlay /scratch/lw3266/my_env/overlay-15GB-500K.ext3:rw /scratch/work/public/singularity/cuda12.3.2-cudnn9.0.0-ubuntu-22.04.4.sif /bin/bash\n",
    "\n",
    "> source /ext3/env.sh\n",
    "\n",
    "Pip install any additional modules needed\n"
   ]
  },
  {
   "cell_type": "markdown",
   "metadata": {
    "id": "0e5_3W3Geo7K"
   },
   "source": [
    "### Setting up\n",
    "Import the modules we will need."
   ]
  },
  {
   "cell_type": "code",
   "execution_count": 3,
   "metadata": {
    "id": "_zsE7lQ_eo7L"
   },
   "outputs": [],
   "source": [
    "import pandas as pd\n",
    "import numpy as np\n",
    "import matplotlib\n",
    "import matplotlib.pyplot as plt\n",
    "from sklearn import linear_model, model_selection\n",
    "from sklearn.mixture import GaussianMixture\n",
    "from sklearn.metrics import r2_score"
   ]
  },
  {
   "cell_type": "code",
   "execution_count": 4,
   "metadata": {
    "colab": {
     "base_uri": "https://localhost:8080/",
     "height": 269
    },
    "id": "x43ilLZBeo7O",
    "outputId": "1688a219-bf9e-40b8-c176-9861fbf47157"
   },
   "outputs": [
    {
     "data": {
      "text/html": [
       "<div>\n",
       "<style scoped>\n",
       "    .dataframe tbody tr th:only-of-type {\n",
       "        vertical-align: middle;\n",
       "    }\n",
       "\n",
       "    .dataframe tbody tr th {\n",
       "        vertical-align: top;\n",
       "    }\n",
       "\n",
       "    .dataframe thead th {\n",
       "        text-align: right;\n",
       "    }\n",
       "</style>\n",
       "<table border=\"1\" class=\"dataframe\">\n",
       "  <thead>\n",
       "    <tr style=\"text-align: right;\">\n",
       "      <th></th>\n",
       "      <th>el_neg</th>\n",
       "      <th>B/GPa</th>\n",
       "      <th>Volume/A^3</th>\n",
       "      <th>SFE/mJm^-3</th>\n",
       "    </tr>\n",
       "    <tr>\n",
       "      <th>Element</th>\n",
       "      <th></th>\n",
       "      <th></th>\n",
       "      <th></th>\n",
       "      <th></th>\n",
       "    </tr>\n",
       "  </thead>\n",
       "  <tbody>\n",
       "    <tr>\n",
       "      <th>Be</th>\n",
       "      <td>1.57</td>\n",
       "      <td>130.0</td>\n",
       "      <td>8.09</td>\n",
       "      <td>23.48</td>\n",
       "    </tr>\n",
       "    <tr>\n",
       "      <th>Sc</th>\n",
       "      <td>1.36</td>\n",
       "      <td>57.0</td>\n",
       "      <td>25.00</td>\n",
       "      <td>16.16</td>\n",
       "    </tr>\n",
       "    <tr>\n",
       "      <th>Ti</th>\n",
       "      <td>1.54</td>\n",
       "      <td>110.0</td>\n",
       "      <td>17.60</td>\n",
       "      <td>24.44</td>\n",
       "    </tr>\n",
       "    <tr>\n",
       "      <th>Co</th>\n",
       "      <td>1.88</td>\n",
       "      <td>180.0</td>\n",
       "      <td>11.00</td>\n",
       "      <td>37.64</td>\n",
       "    </tr>\n",
       "    <tr>\n",
       "      <th>Zn</th>\n",
       "      <td>1.65</td>\n",
       "      <td>70.0</td>\n",
       "      <td>15.20</td>\n",
       "      <td>20.98</td>\n",
       "    </tr>\n",
       "    <tr>\n",
       "      <th>Y</th>\n",
       "      <td>1.22</td>\n",
       "      <td>41.0</td>\n",
       "      <td>33.00</td>\n",
       "      <td>8.52</td>\n",
       "    </tr>\n",
       "  </tbody>\n",
       "</table>\n",
       "</div>"
      ],
      "text/plain": [
       "         el_neg  B/GPa  Volume/A^3  SFE/mJm^-3\n",
       "Element                                       \n",
       "Be         1.57  130.0        8.09       23.48\n",
       "Sc         1.36   57.0       25.00       16.16\n",
       "Ti         1.54  110.0       17.60       24.44\n",
       "Co         1.88  180.0       11.00       37.64\n",
       "Zn         1.65   70.0       15.20       20.98\n",
       "Y          1.22   41.0       33.00        8.52"
      ]
     },
     "execution_count": 4,
     "metadata": {},
     "output_type": "execute_result"
    }
   ],
   "source": [
    "df = pd.read_csv(\"qml_training-validation-data.csv\", index_col = 0)\n",
    "df.head(6)"
   ]
  },
  {
   "cell_type": "markdown",
   "metadata": {
    "id": "0HVTijzXTnXt"
   },
   "source": [
    "### Linear Model Training\n",
    "We first divide the dataset into test and train, with a ratio of 80 to 20.\n",
    "\n",
    "Then the linear model will be trained using the train data."
   ]
  },
  {
   "cell_type": "code",
   "execution_count": 5,
   "metadata": {
    "colab": {
     "base_uri": "https://localhost:8080/",
     "height": 80
    },
    "id": "1jRrJv7veo7P",
    "outputId": "fab74c8a-f8ba-4d2d-e2dc-c8d90f217d6c"
   },
   "outputs": [
    {
     "data": {
      "text/html": [
       "<style>#sk-container-id-1 {\n",
       "  /* Definition of color scheme common for light and dark mode */\n",
       "  --sklearn-color-text: black;\n",
       "  --sklearn-color-line: gray;\n",
       "  /* Definition of color scheme for unfitted estimators */\n",
       "  --sklearn-color-unfitted-level-0: #fff5e6;\n",
       "  --sklearn-color-unfitted-level-1: #f6e4d2;\n",
       "  --sklearn-color-unfitted-level-2: #ffe0b3;\n",
       "  --sklearn-color-unfitted-level-3: chocolate;\n",
       "  /* Definition of color scheme for fitted estimators */\n",
       "  --sklearn-color-fitted-level-0: #f0f8ff;\n",
       "  --sklearn-color-fitted-level-1: #d4ebff;\n",
       "  --sklearn-color-fitted-level-2: #b3dbfd;\n",
       "  --sklearn-color-fitted-level-3: cornflowerblue;\n",
       "\n",
       "  /* Specific color for light theme */\n",
       "  --sklearn-color-text-on-default-background: var(--sg-text-color, var(--theme-code-foreground, var(--jp-content-font-color1, black)));\n",
       "  --sklearn-color-background: var(--sg-background-color, var(--theme-background, var(--jp-layout-color0, white)));\n",
       "  --sklearn-color-border-box: var(--sg-text-color, var(--theme-code-foreground, var(--jp-content-font-color1, black)));\n",
       "  --sklearn-color-icon: #696969;\n",
       "\n",
       "  @media (prefers-color-scheme: dark) {\n",
       "    /* Redefinition of color scheme for dark theme */\n",
       "    --sklearn-color-text-on-default-background: var(--sg-text-color, var(--theme-code-foreground, var(--jp-content-font-color1, white)));\n",
       "    --sklearn-color-background: var(--sg-background-color, var(--theme-background, var(--jp-layout-color0, #111)));\n",
       "    --sklearn-color-border-box: var(--sg-text-color, var(--theme-code-foreground, var(--jp-content-font-color1, white)));\n",
       "    --sklearn-color-icon: #878787;\n",
       "  }\n",
       "}\n",
       "\n",
       "#sk-container-id-1 {\n",
       "  color: var(--sklearn-color-text);\n",
       "}\n",
       "\n",
       "#sk-container-id-1 pre {\n",
       "  padding: 0;\n",
       "}\n",
       "\n",
       "#sk-container-id-1 input.sk-hidden--visually {\n",
       "  border: 0;\n",
       "  clip: rect(1px 1px 1px 1px);\n",
       "  clip: rect(1px, 1px, 1px, 1px);\n",
       "  height: 1px;\n",
       "  margin: -1px;\n",
       "  overflow: hidden;\n",
       "  padding: 0;\n",
       "  position: absolute;\n",
       "  width: 1px;\n",
       "}\n",
       "\n",
       "#sk-container-id-1 div.sk-dashed-wrapped {\n",
       "  border: 1px dashed var(--sklearn-color-line);\n",
       "  margin: 0 0.4em 0.5em 0.4em;\n",
       "  box-sizing: border-box;\n",
       "  padding-bottom: 0.4em;\n",
       "  background-color: var(--sklearn-color-background);\n",
       "}\n",
       "\n",
       "#sk-container-id-1 div.sk-container {\n",
       "  /* jupyter's `normalize.less` sets `[hidden] { display: none; }`\n",
       "     but bootstrap.min.css set `[hidden] { display: none !important; }`\n",
       "     so we also need the `!important` here to be able to override the\n",
       "     default hidden behavior on the sphinx rendered scikit-learn.org.\n",
       "     See: https://github.com/scikit-learn/scikit-learn/issues/21755 */\n",
       "  display: inline-block !important;\n",
       "  position: relative;\n",
       "}\n",
       "\n",
       "#sk-container-id-1 div.sk-text-repr-fallback {\n",
       "  display: none;\n",
       "}\n",
       "\n",
       "div.sk-parallel-item,\n",
       "div.sk-serial,\n",
       "div.sk-item {\n",
       "  /* draw centered vertical line to link estimators */\n",
       "  background-image: linear-gradient(var(--sklearn-color-text-on-default-background), var(--sklearn-color-text-on-default-background));\n",
       "  background-size: 2px 100%;\n",
       "  background-repeat: no-repeat;\n",
       "  background-position: center center;\n",
       "}\n",
       "\n",
       "/* Parallel-specific style estimator block */\n",
       "\n",
       "#sk-container-id-1 div.sk-parallel-item::after {\n",
       "  content: \"\";\n",
       "  width: 100%;\n",
       "  border-bottom: 2px solid var(--sklearn-color-text-on-default-background);\n",
       "  flex-grow: 1;\n",
       "}\n",
       "\n",
       "#sk-container-id-1 div.sk-parallel {\n",
       "  display: flex;\n",
       "  align-items: stretch;\n",
       "  justify-content: center;\n",
       "  background-color: var(--sklearn-color-background);\n",
       "  position: relative;\n",
       "}\n",
       "\n",
       "#sk-container-id-1 div.sk-parallel-item {\n",
       "  display: flex;\n",
       "  flex-direction: column;\n",
       "}\n",
       "\n",
       "#sk-container-id-1 div.sk-parallel-item:first-child::after {\n",
       "  align-self: flex-end;\n",
       "  width: 50%;\n",
       "}\n",
       "\n",
       "#sk-container-id-1 div.sk-parallel-item:last-child::after {\n",
       "  align-self: flex-start;\n",
       "  width: 50%;\n",
       "}\n",
       "\n",
       "#sk-container-id-1 div.sk-parallel-item:only-child::after {\n",
       "  width: 0;\n",
       "}\n",
       "\n",
       "/* Serial-specific style estimator block */\n",
       "\n",
       "#sk-container-id-1 div.sk-serial {\n",
       "  display: flex;\n",
       "  flex-direction: column;\n",
       "  align-items: center;\n",
       "  background-color: var(--sklearn-color-background);\n",
       "  padding-right: 1em;\n",
       "  padding-left: 1em;\n",
       "}\n",
       "\n",
       "\n",
       "/* Toggleable style: style used for estimator/Pipeline/ColumnTransformer box that is\n",
       "clickable and can be expanded/collapsed.\n",
       "- Pipeline and ColumnTransformer use this feature and define the default style\n",
       "- Estimators will overwrite some part of the style using the `sk-estimator` class\n",
       "*/\n",
       "\n",
       "/* Pipeline and ColumnTransformer style (default) */\n",
       "\n",
       "#sk-container-id-1 div.sk-toggleable {\n",
       "  /* Default theme specific background. It is overwritten whether we have a\n",
       "  specific estimator or a Pipeline/ColumnTransformer */\n",
       "  background-color: var(--sklearn-color-background);\n",
       "}\n",
       "\n",
       "/* Toggleable label */\n",
       "#sk-container-id-1 label.sk-toggleable__label {\n",
       "  cursor: pointer;\n",
       "  display: block;\n",
       "  width: 100%;\n",
       "  margin-bottom: 0;\n",
       "  padding: 0.5em;\n",
       "  box-sizing: border-box;\n",
       "  text-align: center;\n",
       "}\n",
       "\n",
       "#sk-container-id-1 label.sk-toggleable__label-arrow:before {\n",
       "  /* Arrow on the left of the label */\n",
       "  content: \"▸\";\n",
       "  float: left;\n",
       "  margin-right: 0.25em;\n",
       "  color: var(--sklearn-color-icon);\n",
       "}\n",
       "\n",
       "#sk-container-id-1 label.sk-toggleable__label-arrow:hover:before {\n",
       "  color: var(--sklearn-color-text);\n",
       "}\n",
       "\n",
       "/* Toggleable content - dropdown */\n",
       "\n",
       "#sk-container-id-1 div.sk-toggleable__content {\n",
       "  max-height: 0;\n",
       "  max-width: 0;\n",
       "  overflow: hidden;\n",
       "  text-align: left;\n",
       "  /* unfitted */\n",
       "  background-color: var(--sklearn-color-unfitted-level-0);\n",
       "}\n",
       "\n",
       "#sk-container-id-1 div.sk-toggleable__content.fitted {\n",
       "  /* fitted */\n",
       "  background-color: var(--sklearn-color-fitted-level-0);\n",
       "}\n",
       "\n",
       "#sk-container-id-1 div.sk-toggleable__content pre {\n",
       "  margin: 0.2em;\n",
       "  border-radius: 0.25em;\n",
       "  color: var(--sklearn-color-text);\n",
       "  /* unfitted */\n",
       "  background-color: var(--sklearn-color-unfitted-level-0);\n",
       "}\n",
       "\n",
       "#sk-container-id-1 div.sk-toggleable__content.fitted pre {\n",
       "  /* unfitted */\n",
       "  background-color: var(--sklearn-color-fitted-level-0);\n",
       "}\n",
       "\n",
       "#sk-container-id-1 input.sk-toggleable__control:checked~div.sk-toggleable__content {\n",
       "  /* Expand drop-down */\n",
       "  max-height: 200px;\n",
       "  max-width: 100%;\n",
       "  overflow: auto;\n",
       "}\n",
       "\n",
       "#sk-container-id-1 input.sk-toggleable__control:checked~label.sk-toggleable__label-arrow:before {\n",
       "  content: \"▾\";\n",
       "}\n",
       "\n",
       "/* Pipeline/ColumnTransformer-specific style */\n",
       "\n",
       "#sk-container-id-1 div.sk-label input.sk-toggleable__control:checked~label.sk-toggleable__label {\n",
       "  color: var(--sklearn-color-text);\n",
       "  background-color: var(--sklearn-color-unfitted-level-2);\n",
       "}\n",
       "\n",
       "#sk-container-id-1 div.sk-label.fitted input.sk-toggleable__control:checked~label.sk-toggleable__label {\n",
       "  background-color: var(--sklearn-color-fitted-level-2);\n",
       "}\n",
       "\n",
       "/* Estimator-specific style */\n",
       "\n",
       "/* Colorize estimator box */\n",
       "#sk-container-id-1 div.sk-estimator input.sk-toggleable__control:checked~label.sk-toggleable__label {\n",
       "  /* unfitted */\n",
       "  background-color: var(--sklearn-color-unfitted-level-2);\n",
       "}\n",
       "\n",
       "#sk-container-id-1 div.sk-estimator.fitted input.sk-toggleable__control:checked~label.sk-toggleable__label {\n",
       "  /* fitted */\n",
       "  background-color: var(--sklearn-color-fitted-level-2);\n",
       "}\n",
       "\n",
       "#sk-container-id-1 div.sk-label label.sk-toggleable__label,\n",
       "#sk-container-id-1 div.sk-label label {\n",
       "  /* The background is the default theme color */\n",
       "  color: var(--sklearn-color-text-on-default-background);\n",
       "}\n",
       "\n",
       "/* On hover, darken the color of the background */\n",
       "#sk-container-id-1 div.sk-label:hover label.sk-toggleable__label {\n",
       "  color: var(--sklearn-color-text);\n",
       "  background-color: var(--sklearn-color-unfitted-level-2);\n",
       "}\n",
       "\n",
       "/* Label box, darken color on hover, fitted */\n",
       "#sk-container-id-1 div.sk-label.fitted:hover label.sk-toggleable__label.fitted {\n",
       "  color: var(--sklearn-color-text);\n",
       "  background-color: var(--sklearn-color-fitted-level-2);\n",
       "}\n",
       "\n",
       "/* Estimator label */\n",
       "\n",
       "#sk-container-id-1 div.sk-label label {\n",
       "  font-family: monospace;\n",
       "  font-weight: bold;\n",
       "  display: inline-block;\n",
       "  line-height: 1.2em;\n",
       "}\n",
       "\n",
       "#sk-container-id-1 div.sk-label-container {\n",
       "  text-align: center;\n",
       "}\n",
       "\n",
       "/* Estimator-specific */\n",
       "#sk-container-id-1 div.sk-estimator {\n",
       "  font-family: monospace;\n",
       "  border: 1px dotted var(--sklearn-color-border-box);\n",
       "  border-radius: 0.25em;\n",
       "  box-sizing: border-box;\n",
       "  margin-bottom: 0.5em;\n",
       "  /* unfitted */\n",
       "  background-color: var(--sklearn-color-unfitted-level-0);\n",
       "}\n",
       "\n",
       "#sk-container-id-1 div.sk-estimator.fitted {\n",
       "  /* fitted */\n",
       "  background-color: var(--sklearn-color-fitted-level-0);\n",
       "}\n",
       "\n",
       "/* on hover */\n",
       "#sk-container-id-1 div.sk-estimator:hover {\n",
       "  /* unfitted */\n",
       "  background-color: var(--sklearn-color-unfitted-level-2);\n",
       "}\n",
       "\n",
       "#sk-container-id-1 div.sk-estimator.fitted:hover {\n",
       "  /* fitted */\n",
       "  background-color: var(--sklearn-color-fitted-level-2);\n",
       "}\n",
       "\n",
       "/* Specification for estimator info (e.g. \"i\" and \"?\") */\n",
       "\n",
       "/* Common style for \"i\" and \"?\" */\n",
       "\n",
       ".sk-estimator-doc-link,\n",
       "a:link.sk-estimator-doc-link,\n",
       "a:visited.sk-estimator-doc-link {\n",
       "  float: right;\n",
       "  font-size: smaller;\n",
       "  line-height: 1em;\n",
       "  font-family: monospace;\n",
       "  background-color: var(--sklearn-color-background);\n",
       "  border-radius: 1em;\n",
       "  height: 1em;\n",
       "  width: 1em;\n",
       "  text-decoration: none !important;\n",
       "  margin-left: 1ex;\n",
       "  /* unfitted */\n",
       "  border: var(--sklearn-color-unfitted-level-1) 1pt solid;\n",
       "  color: var(--sklearn-color-unfitted-level-1);\n",
       "}\n",
       "\n",
       ".sk-estimator-doc-link.fitted,\n",
       "a:link.sk-estimator-doc-link.fitted,\n",
       "a:visited.sk-estimator-doc-link.fitted {\n",
       "  /* fitted */\n",
       "  border: var(--sklearn-color-fitted-level-1) 1pt solid;\n",
       "  color: var(--sklearn-color-fitted-level-1);\n",
       "}\n",
       "\n",
       "/* On hover */\n",
       "div.sk-estimator:hover .sk-estimator-doc-link:hover,\n",
       ".sk-estimator-doc-link:hover,\n",
       "div.sk-label-container:hover .sk-estimator-doc-link:hover,\n",
       ".sk-estimator-doc-link:hover {\n",
       "  /* unfitted */\n",
       "  background-color: var(--sklearn-color-unfitted-level-3);\n",
       "  color: var(--sklearn-color-background);\n",
       "  text-decoration: none;\n",
       "}\n",
       "\n",
       "div.sk-estimator.fitted:hover .sk-estimator-doc-link.fitted:hover,\n",
       ".sk-estimator-doc-link.fitted:hover,\n",
       "div.sk-label-container:hover .sk-estimator-doc-link.fitted:hover,\n",
       ".sk-estimator-doc-link.fitted:hover {\n",
       "  /* fitted */\n",
       "  background-color: var(--sklearn-color-fitted-level-3);\n",
       "  color: var(--sklearn-color-background);\n",
       "  text-decoration: none;\n",
       "}\n",
       "\n",
       "/* Span, style for the box shown on hovering the info icon */\n",
       ".sk-estimator-doc-link span {\n",
       "  display: none;\n",
       "  z-index: 9999;\n",
       "  position: relative;\n",
       "  font-weight: normal;\n",
       "  right: .2ex;\n",
       "  padding: .5ex;\n",
       "  margin: .5ex;\n",
       "  width: min-content;\n",
       "  min-width: 20ex;\n",
       "  max-width: 50ex;\n",
       "  color: var(--sklearn-color-text);\n",
       "  box-shadow: 2pt 2pt 4pt #999;\n",
       "  /* unfitted */\n",
       "  background: var(--sklearn-color-unfitted-level-0);\n",
       "  border: .5pt solid var(--sklearn-color-unfitted-level-3);\n",
       "}\n",
       "\n",
       ".sk-estimator-doc-link.fitted span {\n",
       "  /* fitted */\n",
       "  background: var(--sklearn-color-fitted-level-0);\n",
       "  border: var(--sklearn-color-fitted-level-3);\n",
       "}\n",
       "\n",
       ".sk-estimator-doc-link:hover span {\n",
       "  display: block;\n",
       "}\n",
       "\n",
       "/* \"?\"-specific style due to the `<a>` HTML tag */\n",
       "\n",
       "#sk-container-id-1 a.estimator_doc_link {\n",
       "  float: right;\n",
       "  font-size: 1rem;\n",
       "  line-height: 1em;\n",
       "  font-family: monospace;\n",
       "  background-color: var(--sklearn-color-background);\n",
       "  border-radius: 1rem;\n",
       "  height: 1rem;\n",
       "  width: 1rem;\n",
       "  text-decoration: none;\n",
       "  /* unfitted */\n",
       "  color: var(--sklearn-color-unfitted-level-1);\n",
       "  border: var(--sklearn-color-unfitted-level-1) 1pt solid;\n",
       "}\n",
       "\n",
       "#sk-container-id-1 a.estimator_doc_link.fitted {\n",
       "  /* fitted */\n",
       "  border: var(--sklearn-color-fitted-level-1) 1pt solid;\n",
       "  color: var(--sklearn-color-fitted-level-1);\n",
       "}\n",
       "\n",
       "/* On hover */\n",
       "#sk-container-id-1 a.estimator_doc_link:hover {\n",
       "  /* unfitted */\n",
       "  background-color: var(--sklearn-color-unfitted-level-3);\n",
       "  color: var(--sklearn-color-background);\n",
       "  text-decoration: none;\n",
       "}\n",
       "\n",
       "#sk-container-id-1 a.estimator_doc_link.fitted:hover {\n",
       "  /* fitted */\n",
       "  background-color: var(--sklearn-color-fitted-level-3);\n",
       "}\n",
       "</style><div id=\"sk-container-id-1\" class=\"sk-top-container\"><div class=\"sk-text-repr-fallback\"><pre>LinearRegression()</pre><b>In a Jupyter environment, please rerun this cell to show the HTML representation or trust the notebook. <br />On GitHub, the HTML representation is unable to render, please try loading this page with nbviewer.org.</b></div><div class=\"sk-container\" hidden><div class=\"sk-item\"><div class=\"sk-estimator fitted sk-toggleable\"><input class=\"sk-toggleable__control sk-hidden--visually\" id=\"sk-estimator-id-1\" type=\"checkbox\" checked><label for=\"sk-estimator-id-1\" class=\"sk-toggleable__label fitted sk-toggleable__label-arrow fitted\">&nbsp;&nbsp;LinearRegression<a class=\"sk-estimator-doc-link fitted\" rel=\"noreferrer\" target=\"_blank\" href=\"https://scikit-learn.org/1.5/modules/generated/sklearn.linear_model.LinearRegression.html\">?<span>Documentation for LinearRegression</span></a><span class=\"sk-estimator-doc-link fitted\">i<span>Fitted</span></span></label><div class=\"sk-toggleable__content fitted\"><pre>LinearRegression()</pre></div> </div></div></div></div>"
      ],
      "text/plain": [
       "LinearRegression()"
      ]
     },
     "execution_count": 5,
     "metadata": {},
     "output_type": "execute_result"
    }
   ],
   "source": [
    "y = df['SFE/mJm^-3'].values\n",
    "X = df[['el_neg', 'B/GPa', 'Volume/A^3']].values\n",
    "Xtrain, Xtest, ytrain, ytest = model_selection.train_test_split(X, y, test_size=0.2, random_state=42)\n",
    "elements = df.index.values\n",
    "elementtrain = elements[:int(0.8*len(elements))]\n",
    "elementtest = elements[int(0.8*len(elements)):]\n",
    "\n",
    "regr = linear_model.LinearRegression()\n",
    "regr.fit(Xtrain, ytrain)"
   ]
  },
  {
   "cell_type": "markdown",
   "metadata": {
    "id": "GMEOdJEzVGSC"
   },
   "source": [
    "\n",
    "The trained model will predict the SFE using orginal independent variables, and the output is named `ytrain_pred`. The graph is shown, and the RSS value calculated to determine whether the model is is effective."
   ]
  },
  {
   "cell_type": "code",
   "execution_count": 6,
   "metadata": {
    "colab": {
     "base_uri": "https://localhost:8080/",
     "height": 413
    },
    "id": "9f_IAG5Eeo7P",
    "outputId": "a52ded07-b3ca-43a4-defc-1080cd60d802"
   },
   "outputs": [
    {
     "data": {
      "image/png": "[encoded data removed]",
      "text/plain": [
       "<Figure size 640x480 with 1 Axes>"
      ]
     },
     "metadata": {},
     "output_type": "display_data"
    }
   ],
   "source": [
    "ytest_pred = regr.predict(Xtest)\n",
    "#plt.plot(elementtrain, ytest_pred, 'o')\n",
    "#plt.plot(elementtrain, ytest, 'o')\n",
    "plt.scatter(ytest,ytest_pred)\n",
    "plt.xlabel(\"ytest\")\n",
    "plt.ylabel(\"ytest_pred\")\n",
    "#plt.legend([\"Predicted\", \"Actual\"], bbox_to_anchor=(1, 0.9), loc='upper left')\n",
    "plt.show()"
   ]
  },
  {
   "cell_type": "code",
   "execution_count": 7,
   "metadata": {
    "colab": {
     "base_uri": "https://localhost:8080/"
    },
    "id": "dq50Ocbseo7P",
    "outputId": "3de5ade9-beeb-409f-ae33-ab35be4a3529"
   },
   "outputs": [
    {
     "data": {
      "text/plain": [
       "0.925101208358343"
      ]
     },
     "execution_count": 7,
     "metadata": {},
     "output_type": "execute_result"
    }
   ],
   "source": [
    "RSS_train = np.mean((ytest_pred-ytest)**2)/(np.std(ytest)**2)\n",
    "RSS_train\n",
    "# RSS_train = np.sum((ytrain_pred-ytrain)**2)/np.sum((ytrain-np.mean(ytrain))**2)\n",
    "r2_score(ytest_pred,ytest)"
   ]
  },
  {
   "cell_type": "markdown",
   "metadata": {
    "id": "nBnVQXVKW3r-"
   },
   "source": [
    "### Linear Model Testing\n",
    "The testing procedure follows the training procedure, except we are using `Xtest` and `ytest`. These data sets remain untouched by the model, allowing us to measure the actual performance."
   ]
  },
  {
   "cell_type": "code",
   "execution_count": 8,
   "metadata": {
    "colab": {
     "base_uri": "https://localhost:8080/",
     "height": 413
    },
    "id": "VL1p2SmNeo7P",
    "outputId": "d112da64-0796-4c7a-b830-2a6cbbd2e0c8"
   },
   "outputs": [
    {
     "data": {
      "image/png": "[encoded data removed]",
      "text/plain": [
       "<Figure size 640x480 with 1 Axes>"
      ]
     },
     "metadata": {},
     "output_type": "display_data"
    }
   ],
   "source": [
    "ytest_pred = regr.predict(Xtest)\n",
    "plt.plot(elementtest, ytest_pred, 'o')\n",
    "plt.plot(elementtest, ytest, 'o')\n",
    "\n",
    "plt.xlabel(\"Element\")\n",
    "plt.ylabel(\"SFE\")\n",
    "plt.legend([\"Predicted\", \"Actual\"], bbox_to_anchor=(1, 0.9), loc='upper left')\n",
    "plt.show()"
   ]
  },
  {
   "cell_type": "markdown",
   "metadata": {
    "id": "zPo-5riWeo7P"
   },
   "source": [
    "### Results\n",
    "\n",
    "Measure the normalized RSS on the test data."
   ]
  },
  {
   "cell_type": "code",
   "execution_count": 9,
   "metadata": {
    "colab": {
     "base_uri": "https://localhost:8080/"
    },
    "id": "Es9wm4hjeo7P",
    "outputId": "a7de1ddb-a511-4b15-8a30-57a3ecbbbe83"
   },
   "outputs": [
    {
     "data": {
      "text/plain": [
       "np.float64(0.0900721746586783)"
      ]
     },
     "execution_count": 9,
     "metadata": {},
     "output_type": "execute_result"
    }
   ],
   "source": [
    "RSS_test = np.sum((ytest_pred-ytest)**2)/np.sum((ytest-np.mean(ytest))**2)\n",
    "RSS_test"
   ]
  },
  {
   "cell_type": "markdown",
   "metadata": {
    "id": "iHVepN_jcIaT"
   },
   "source": [
    "# Quantum Model Testing\n",
    "Source: [Qiskit Machine Learning 0.7.2](https://qiskit-community.github.io/qiskit-machine-learning/tutorials/02_neural_network_classifier_and_regressor.html#Regression)\n",
    "\n",
    "## Quantum Support Vector Regressor (QSVR)\n",
    "I first tried QSVR, as it is easier to set up.\n",
    "\n",
    "### Setup"
   ]
  },
  {
   "cell_type": "code",
   "execution_count": 10,
   "metadata": {
    "colab": {
     "base_uri": "https://localhost:8080/"
    },
    "id": "FcJxYstfQ_zf",
    "outputId": "a2c69da0-ceae-45a8-d2b1-0716935f3d8b"
   },
   "outputs": [],
   "source": [
    "###\n",
    "import numpy as np\n",
    "import pandas as pd\n",
    "import matplotlib.pyplot as plt\n",
    "\n",
    "from IPython.display import clear_output\n",
    "\n",
    "from sklearn.model_selection import train_test_split\n",
    "from sklearn.metrics import mean_squared_error, r2_score\n",
    "from sklearn.preprocessing import MinMaxScaler, StandardScaler #StandardScaler is sensitive to outlier\n",
    "\n",
    "from qiskit_aer import Aer\n",
    "from qiskit.circuit.library import PauliFeatureMap, RealAmplitudes, ZZFeatureMap\n",
    "from qiskit_machine_learning.algorithms import VQR\n",
    "from qiskit_machine_learning.datasets import ad_hoc_data\n",
    "from qiskit_machine_learning.algorithms import QSVR,QSVC\n",
    "from qiskit_machine_learning.kernels import FidelityQuantumKernel"
   ]
  },
  {
   "cell_type": "code",
   "execution_count": 11,
   "metadata": {},
   "outputs": [],
   "source": [
    "\n",
    "# X_scaler = StandardScaler()\n",
    "# y_scaler = StandardScaler()\n",
    "# X_train_scaler = StandardScaler()\n",
    "# y_train_scaler = StandardScaler()\n",
    "# X_test_scaler = StandardScaler()\n",
    "# y_test_scaler = StandardScaler()\n",
    "\n",
    "def prepare_dataset(y_scaler,X,y):\n",
    "    X_scaler = MinMaxScaler()\n",
    "    y_scaled = y_scaler.fit_transform(y.reshape(-1,1))\n",
    "    \n",
    "    X_train, X_test, y_train, y_test = train_test_split(X, y_scaled, test_size=test_ratio, shuffle=True)\n",
    "    element_test = X_test[:,0]\n",
    "    X=X[:,1:]\n",
    "    max_arr=np.max(X,axis=0)\n",
    "    #print(\"max_arr: \",max_arr,X/max_arr)\n",
    "    X=X/max_arr\n",
    "    #print(\"renormalized X: \",X)\n",
    "    sample_train=X_train[:,1:]/max_arr\n",
    "    sample_test=X_test[:,1:]/max_arr\n",
    "    # Normalise\n",
    "#     std_scale = StandardScaler().fit(X)\n",
    "#     sample_train = std_scale.transform(sample_train)\n",
    "#     sample_test = std_scale.transform(sample_test)\n",
    "\n",
    "    #print(sample_train[0])\n",
    "    # Scale\n",
    "    samples = np.append(sample_train, sample_test, axis=0)\n",
    "    minmax_scale = MinMaxScaler((-1, 1)).fit(samples)\n",
    "    X_train = minmax_scale.transform(sample_train)\n",
    "    X_test = minmax_scale.transform(sample_test)\n",
    "    #print(X_train) #[0])\n",
    "\n",
    "#     y_test_copy = y_test\n",
    "    \n",
    "#     X_joined = np.concatenate((X_train[:,1:], X_test[:,1:]))\n",
    "#     X_joined = X_scaler.fit_transform(X_joined.reshape(-1,3))\n",
    "    \n",
    "#     X_train = X_joined[:int(len(X_joined)*0.9)]\n",
    "#     X_test = X_joined[int(len(X_joined)*0.9):]\n",
    "    \n",
    "    return X_train, y_train, X_test, y_test, element_test"
   ]
  },
  {
   "cell_type": "code",
   "execution_count": 12,
   "metadata": {},
   "outputs": [],
   "source": [
    "# feature_map = ZZFeatureMap(feature_dimension=3, reps=2)  # Adjust feature_dimension as needed\n",
    "# kernel = FidelityQuantumKernel(feature_map=feature_map)\n",
    "\n",
    "\n",
    "# def reconfig_feature_map(reps):\n",
    "#     feature_map = ZZFeatureMap(feature_dimension=3, reps=reps,entanglement='circular', insert_barriers=True)\n",
    "#     #kernel = FidelityQuantumKernel(feature_map=feature_map)\n",
    "#     kernel = FidelityQuantumKernel(feature_map=feature_map)"
   ]
  },
  {
   "cell_type": "code",
   "execution_count": 13,
   "metadata": {},
   "outputs": [],
   "source": [
    "# Create a quantum kernel\n",
    "#qsvr = QSVR(C=20.0, epsilon=0.2, quantum_kernel=kernel)\n",
    "def reconfig_quantum_kernel(C,reps):\n",
    "    feature_map = ZZFeatureMap(feature_dimension=3, reps=reps,entanglement='circular', insert_barriers=True)\n",
    "    #kernel = FidelityQuantumKernel(feature_map=feature_map)\n",
    "    kernel = FidelityQuantumKernel(feature_map=feature_map)\n",
    "    #qsvr = QSVR(C=20.0, epsilon=0.2, quantum_kernel=kernel)\n",
    "    qsvr = QSVR(C=1.0, epsilon=0.1, quantum_kernel=kernel)\n",
    "    return qsvr"
   ]
  },
  {
   "cell_type": "code",
   "execution_count": 14,
   "metadata": {},
   "outputs": [],
   "source": [
    "def train(qsvr,X_train, y_train):\n",
    "    qsvr.fit(X_train, y_train)\n",
    "    y_hat = qsvr.predict(X_test)\n",
    "    return y_hat"
   ]
  },
  {
   "cell_type": "code",
   "execution_count": 15,
   "metadata": {
    "colab": {
     "base_uri": "https://localhost:8080/",
     "height": 424
    },
    "id": "9eIlz4D3SUmz",
    "outputId": "5f3a98fb-7e13-4055-965a-916aefb888ea"
   },
   "outputs": [],
   "source": [
    "def graph(y_scaler, y_hat, y_test, message):\n",
    "    y_hat = y_scaler.inverse_transform(y_hat.reshape(-1,1))\n",
    "    y_test = y_scaler.inverse_transform(y_test.reshape(-1,1))\n",
    "    plt.plot(elementtest, y_hat, 'o')\n",
    "    plt.plot(elementtest, y_test, 'o')\n",
    "    \n",
    "    plt.xlabel(\"Element\")\n",
    "    plt.ylabel(\"SFE\")\n",
    "    plt.legend([\"Predicted\", \"Actual\"], bbox_to_anchor=(1, 0.9), loc='upper left')\n",
    "    plt.savefig(message,dpi=300)\n",
    "    # plt.show()\n",
    "    plt.clf()\n",
    "    return y_test, y_hat"
   ]
  },
  {
   "cell_type": "code",
   "execution_count": 16,
   "metadata": {},
   "outputs": [],
   "source": [
    "def accuracy(y_test, y_hat):\n",
    "    return r2_score(y_test, y_hat)"
   ]
  },
  {
   "cell_type": "code",
   "execution_count": 17,
   "metadata": {
    "scrolled": true
   },
   "outputs": [
    {
     "name": "stdout",
     "output_type": "stream",
     "text": [
      "j:  1\n",
      "R2 score:  0.7120211514260149\n"
     ]
    },
    {
     "data": {
      "image/png": "[encoded data removed]",
      "text/plain": [
       "<Figure size 640x480 with 1 Axes>"
      ]
     },
     "metadata": {},
     "output_type": "display_data"
    }
   ],
   "source": [
    "df = pd.read_csv(\"qml_training-validation-data.csv\")\n",
    "X = df[['Element', 'el_neg', 'B/GPa', 'Volume/A^3']].values\n",
    "y = df['SFE/mJm^-3'].values\n",
    "\n",
    "y_scaler = MinMaxScaler()\n",
    "\n",
    "test_ratio = 0.2 #0.1\n",
    "\n",
    "reps = 1\n",
    "reps_end = 2 #5 #11\n",
    "C = 1\n",
    "C_end = 2 #10 #21\n",
    "iter = 10 #20 #30\n",
    "\n",
    "import warnings\n",
    "warnings.filterwarnings('ignore')\n",
    "\n",
    "template = \"QSVR/zz/QVSR_zz_\"\n",
    "df = pd.DataFrame(columns=['reps', 'C', 'i', 'r^2'])\n",
    "y_test_all, y_hat_all=[],[]\n",
    "for j in range(C, C_end): # C\n",
    "    print(\"j: \", j)\n",
    "    for reps_z in range(reps, reps_end):# reps\n",
    "        for i in range(iter):\n",
    "            message = ''\n",
    "            message += template\n",
    "            message += f\"{reps_z}_{j}_i{i}_prediction.png\"\n",
    "            X_train, y_train, X_test, y_test, elementtest = prepare_dataset(y_scaler,X,y)\n",
    "            #reconfig_feature_map(z)\n",
    "            qsvr=reconfig_quantum_kernel(j,reps_z)\n",
    "            y_hat = train(qsvr,X_train, y_train)\n",
    "            y_test, y_hat = graph(y_scaler,y_hat, y_test, message)\n",
    "            y_test_all.append(y_test), y_hat_all.append(y_hat)\n",
    "            new_row = {'reps': reps_z, 'C': j, 'i': i, 'r^2': accuracy(y_test, y_hat)}\n",
    "            df.loc[len(df)] = new_row\n",
    "y_test_all=np.concatenate(y_test_all)\n",
    "y_hat_all=np.concatenate(y_hat_all)\n",
    "print(\"R2 score: \",accuracy(y_test_all, y_hat_all))\n",
    "plt.scatter(y_test_all,y_hat_all)\n",
    "plt.savefig(\"QSVR/zz/all.png\",dpi=300)\n",
    "df.to_csv('QSVR/zz/result/data.csv', index=False) "
   ]
  },
  {
   "cell_type": "markdown",
   "metadata": {},
   "source": [
    "# Classification task"
   ]
  },
  {
   "cell_type": "code",
   "execution_count": 18,
   "metadata": {},
   "outputs": [],
   "source": [
    "#classification task\n",
    "def reconfig_quantum_kernel_qsvc(C,reps):\n",
    "    feature_map = ZZFeatureMap(feature_dimension=3, reps=reps,entanglement='circular', insert_barriers=True)\n",
    "    kernel = FidelityQuantumKernel(feature_map=feature_map)\n",
    "    qsvc = QSVC(quantum_kernel=kernel)\n",
    "    return qsvc\n",
    "def accuracy_qsvc(y_test, y_hat):\n",
    "    agree=0\n",
    "    for i in range(len(y_test)):\n",
    "        if round(y_test[i]-y_hat[i],1)==0:\n",
    "            agree+=1\n",
    "    return agree/len(y_test)\n",
    "def prepare_dataset(X,y):\n",
    "    X_scaler = MinMaxScaler()\n",
    "    y_scaled = y_scaler.fit_transform(y.reshape(-1,1))\n",
    "    \n",
    "    X_train, X_test, y_train, y_test = train_test_split(X, y_scaled, test_size=test_ratio, shuffle=True)\n",
    "    element_test = X_test[:,0]\n",
    "    X=X[:,1:]\n",
    "    max_arr=np.max(X,axis=0)\n",
    "    #print(\"max_arr: \",max_arr,X/max_arr)\n",
    "    X=X/max_arr\n",
    "    #print(\"renormalized X: \",X)\n",
    "    sample_train=X_train[:,1:]/max_arr\n",
    "    sample_test=X_test[:,1:]/max_arr\n",
    "    # Normalise\n",
    "#     std_scale = StandardScaler().fit(X)\n",
    "#     sample_train = std_scale.transform(sample_train)\n",
    "#     sample_test = std_scale.transform(sample_test)\n",
    "\n",
    "    #print(sample_train[0])\n",
    "    # Scale\n",
    "    samples = np.append(sample_train, sample_test, axis=0)\n",
    "    minmax_scale = MinMaxScaler((-1, 1)).fit(samples)\n",
    "    X_train = minmax_scale.transform(sample_train)\n",
    "    X_test = minmax_scale.transform(sample_test)\n",
    "    \n",
    "    return X_train, y_train, X_test, y_test, element_test"
   ]
  },
  {
   "cell_type": "code",
   "execution_count": 19,
   "metadata": {},
   "outputs": [
    {
     "name": "stdout",
     "output_type": "stream",
     "text": [
      "[0. 1. 0. 0. 0. 1. 0. 0. 0. 1. 1. 1. 1. 1. 1. 1. 1. 1. 0. 0. 0.]\n"
     ]
    }
   ],
   "source": [
    "#preprocessing data\n",
    "df = pd.read_csv(\"qml_training-validation-data.csv\")\n",
    "X = df[['Element', 'el_neg', 'B/GPa', 'Volume/A^3']].values\n",
    "y = df['SFE/mJm^-3'].values\n",
    "for i in range(0,len(y)): \n",
    "    if y[i]>19: y[i]=0\n",
    "    else: y[i]=1\n",
    "print(y)"
   ]
  },
  {
   "cell_type": "code",
   "execution_count": 20,
   "metadata": {},
   "outputs": [
    {
     "name": "stdout",
     "output_type": "stream",
     "text": [
      "y_test_all:  [0. 0. 0. 1. 0. 0. 1. 1. 1. 1. 0. 0. 1. 1. 1. 1. 0. 0. 1. 0. 0. 1. 0. 0.\n",
      " 1. 0. 0. 0. 0. 1. 1. 0. 1. 0. 0. 0. 0. 1. 0. 0. 0. 1. 0. 0. 1. 1. 0. 1.\n",
      " 1. 1.]\n",
      "y_hat_all:  [0. 0. 0. 1. 0. 1. 1. 1. 1. 1. 1. 0. 1. 1. 1. 1. 0. 0. 1. 0. 0. 1. 1. 0.\n",
      " 1. 0. 0. 0. 0. 1. 1. 0. 1. 1. 0. 0. 0. 1. 0. 0. 0. 1. 0. 0. 1. 1. 0. 1.\n",
      " 1. 1.]\n",
      "accuracy:  0.92\n"
     ]
    },
    {
     "data": {
      "text/plain": [
       "<Figure size 640x480 with 0 Axes>"
      ]
     },
     "metadata": {},
     "output_type": "display_data"
    }
   ],
   "source": [
    "\n",
    "#y_scaler = MinMaxScaler()\n",
    "\n",
    "test_ratio = 0.2 #0.1\n",
    "\n",
    "reps = 1\n",
    "reps_end = 2 #5 #11\n",
    "C = 1\n",
    "C_end = 2 #10 #21\n",
    "iter = 10 #20 #30\n",
    "\n",
    "import warnings\n",
    "warnings.filterwarnings('ignore')\n",
    "\n",
    "template = \"QSVC/zz/QVSC_zz_\"\n",
    "df = pd.DataFrame(columns=['reps', 'C', 'i', 'r^2'])\n",
    "y_test_all, y_hat_all=[],[]\n",
    "for j in range(C, C_end): # C\n",
    "    for reps_z in range(reps, reps_end):# reps\n",
    "        for i in range(iter):\n",
    "            message = ''\n",
    "            message += template\n",
    "            message += f\"{reps_z}_{j}_i{i}_prediction.png\"\n",
    "            X_train, y_train, X_test, y_test, elementtest = prepare_dataset(X,y)\n",
    "            #reconfig_feature_map(z)\n",
    "            qsvc=reconfig_quantum_kernel_qsvc(j,reps_z)\n",
    "            y_hat = train(qsvc,X_train, y_train)\n",
    "            #y_test, y_hat = graph(y_scaler,y_hat, y_test, message)\n",
    "            y_test_all.append(y_test), y_hat_all.append(y_hat)\n",
    "            new_row = {'reps': reps_z, 'C': j, 'i': i, 'r^2': accuracy(y_test, y_hat)}\n",
    "            df.loc[len(df)] = new_row\n",
    "y_test_all=np.concatenate(y_test_all)\n",
    "y_test_all=np.transpose(y_test_all)[0]\n",
    "y_hat_all=np.concatenate(y_hat_all)\n",
    "print(\"y_test_all: \",y_test_all)\n",
    "print(\"y_hat_all: \",y_hat_all)\n",
    "print(\"accuracy: \",accuracy_qsvc(y_test_all, y_hat_all))\n",
    "#plt.scatter(y_test_all,y_hat_all)\n",
    "plt.savefig(\"QSVR/zz/all.png\",dpi=300)\n",
    "df.to_csv('QSVR/zz/result/data.csv', index=False) "
   ]
  },
  {
   "cell_type": "markdown",
   "metadata": {},
   "source": [
    "## EstimatorQNN (NOT TESTED AND NEEDS A FIX)\n",
    "\n",
    "The second attempt uses EstimatorQNN to perform a regression. EstimatorQNN evaluates quantum mechanical observables (some quantum state that can be obtained by a sequence of operatorion. Source: Wikipedia). We will also construct a QNNCircuit, which involves input parameters and an ansatz.\n",
    "\n",
    "Source: https://qiskit-community.github.io/qiskit-machine-learning/tutorials/02_neural_network_classifier_and_regressor.html\n",
    "\n",
    "### Setup"
   ]
  },
  {
   "cell_type": "code",
   "execution_count": 21,
   "metadata": {},
   "outputs": [],
   "source": [
    "from sklearn.preprocessing import MinMaxScaler\n",
    "\n",
    "from qiskit import QuantumCircuit\n",
    "from qiskit.circuit import Parameter\n",
    "from qiskit.circuit.library import RealAmplitudes, ZZFeatureMap\n",
    "from qiskit_algorithms.optimizers import COBYLA, L_BFGS_B\n",
    "from qiskit_algorithms.utils import algorithm_globals\n",
    "\n",
    "from qiskit_machine_learning.algorithms.classifiers import NeuralNetworkClassifier, VQC\n",
    "from qiskit_machine_learning.algorithms.regressors import NeuralNetworkRegressor, VQR\n",
    "from qiskit_machine_learning.neural_networks import SamplerQNN, EstimatorQNN\n",
    "from qiskit_machine_learning.circuit.library import QNNCircuit\n",
    "\n",
    "algorithm_globals.random_seed = 42"
   ]
  },
  {
   "cell_type": "code",
   "execution_count": 22,
   "metadata": {},
   "outputs": [],
   "source": [
    "#functions\n",
    "\n",
    "def prepare_dataset(y_scaler,X,y):\n",
    "    X_scaler = MinMaxScaler()\n",
    "    y_scaled = y_scaler.fit_transform(y.reshape(-1,1))\n",
    "    \n",
    "    X_train, X_test, y_train, y_test = train_test_split(X, y_scaled, test_size=test_ratio, shuffle=True)\n",
    "    element_test = X_test[:,0]\n",
    "    X=X[:,1:]\n",
    "    max_arr=np.max(X,axis=0)\n",
    "    #print(\"max_arr: \",max_arr,X/max_arr)\n",
    "    X=X/max_arr\n",
    "    #print(\"renormalized X: \",X)\n",
    "    sample_train=X_train[:,1:]/max_arr\n",
    "    sample_test=X_test[:,1:]/max_arr\n",
    "    # Normalise\n",
    "#     std_scale = StandardScaler().fit(X)\n",
    "#     sample_train = std_scale.transform(sample_train)\n",
    "#     sample_test = std_scale.transform(sample_test)\n",
    "\n",
    "    #print(sample_train[0])\n",
    "    # Scale\n",
    "    samples = np.append(sample_train, sample_test, axis=0)\n",
    "    minmax_scale = MinMaxScaler((-1, 1)).fit(samples)\n",
    "    X_train = minmax_scale.transform(sample_train)\n",
    "    X_test = minmax_scale.transform(sample_test)\n",
    "    #print(X_train) #[0])\n",
    "    \n",
    "    return X_train, y_train, X_test, y_test, element_test"
   ]
  },
  {
   "cell_type": "markdown",
   "metadata": {},
   "source": [
    "### Prepare Dataset"
   ]
  },
  {
   "cell_type": "code",
   "execution_count": 23,
   "metadata": {},
   "outputs": [],
   "source": [
    "df = pd.read_csv(\"qml_training-validation-data.csv\")\n",
    "X = df[['Element', 'el_neg', 'B/GPa', 'Volume/A^3']].values\n",
    "y = df['SFE/mJm^-3'].values\n",
    "\n",
    "y_scaler = MinMaxScaler((-1, 1))\n",
    "\n",
    "test_ratio = 0.2 #0.1\n",
    "\n",
    "X_train, y_train, X_test, y_test, element_test = prepare_dataset(y_scaler,X,y)\n",
    "\n",
    "# elementtest = X_test[:,0]\n",
    "# X = MinMaxScaler().fit_transform(X[:,1:])\n",
    "# # y = MinMaxScaler().fit_transform(y.reshape(-1,1))\n",
    "# # print(X)\n",
    "\n",
    "# test_ratio = 0.1\n",
    "# X_train, X_test, y_train, y_test = train_test_split(X, y, test_size=test_ratio, shuffle=True)\n",
    "# elementtest = X_test[:,0]"
   ]
  },
  {
   "cell_type": "markdown",
   "metadata": {},
   "source": [
    "### Regression with EstimatorQNN"
   ]
  },
  {
   "cell_type": "code",
   "execution_count": 24,
   "metadata": {},
   "outputs": [],
   "source": [
    "# Construct the feature map\n",
    "\n",
    "from qiskit.circuit.library import ZZFeatureMap\n",
    "\n",
    "num_qubits = 3\n",
    "\n",
    "# QNN of Leyang; this model has a low score of 0.0369\n",
    "def regression_estimator_qnn1(num_qubits):\n",
    " # Construct the ansatz\n",
    "  param_y = Parameter(\"y\")\n",
    "  ansatz = QuantumCircuit(num_qubits, name=\"vf\")\n",
    "  for i in range(num_qubits):\n",
    "    ansatz.ry(param_y, i)\n",
    "\n",
    " # Construct the circuit\n",
    "  qc = QNNCircuit(feature_map=ZZFeatureMap(num_qubits,reps=1), ansatz=ansatz)\n",
    "\n",
    " # construct QNN\n",
    "  regression_estimator_qnn = EstimatorQNN(circuit=qc)\n",
    "\n",
    "  return regression_estimator_qnn\n",
    "\n",
    "#QNN1; this QNN model gives a score of 0.801\n",
    "def regression_estimator_qnn2(num_qubits):\n",
    "  qnn_qc = QNNCircuit(num_qubits)\n",
    "\n",
    "  regression_estimator_qnn = EstimatorQNN(\n",
    "    circuit=qnn_qc\n",
    "  )\n",
    "  return regression_estimator_qnn\n",
    "    \n",
    "#QNN2; this model gives a score of 0.788\n",
    "def regression_estimator_qnn3(num_qubits):\n",
    "  feature_map = ZZFeatureMap(feature_dimension=num_qubits)\n",
    "  ansatz = RealAmplitudes(num_qubits=num_qubits)\n",
    "\n",
    "  qc = QuantumCircuit(num_qubits)\n",
    "  qc.compose(feature_map, inplace=True)\n",
    "  qc.compose(ansatz, inplace=True)\n",
    "\n",
    "  regression_estimator_qnn = EstimatorQNN(\n",
    "    circuit=qc,\n",
    "    input_params=feature_map.parameters,\n",
    "    weight_params=ansatz.parameters\n",
    "  )\n",
    "  return regression_estimator_qnn\n",
    "\n",
    "regression_estimator_qnn=regression_estimator_qnn3(num_qubits) #1,2,3 has different score\n",
    "\n",
    "def callback_graph(weights, obj_func_eval):\n",
    "    clear_output(wait=True)\n",
    "    objective_func_vals.append(obj_func_eval)\n",
    "    plt.title(\"Objective function value against iteration\")\n",
    "    plt.xlabel(\"Iteration\")\n",
    "    plt.ylabel(\"Objective function value\")\n",
    "    plt.plot(range(len(objective_func_vals)), objective_func_vals)\n",
    "    plt.show()"
   ]
  },
  {
   "cell_type": "code",
   "execution_count": 25,
   "metadata": {},
   "outputs": [],
   "source": [
    "# qc.draw(\"mpl\", style=\"clifford\")"
   ]
  },
  {
   "cell_type": "markdown",
   "metadata": {},
   "source": [
    "### Regressor Construction"
   ]
  },
  {
   "cell_type": "code",
   "execution_count": 26,
   "metadata": {},
   "outputs": [],
   "source": [
    "regressor = NeuralNetworkRegressor(\n",
    "    neural_network=regression_estimator_qnn, \n",
    "    loss=\"squared_error\",\n",
    "    optimizer=L_BFGS_B(maxiter=10), #5\n",
    "    callback=callback_graph,\n",
    ")"
   ]
  },
  {
   "cell_type": "markdown",
   "metadata": {},
   "source": [
    "### Training"
   ]
  },
  {
   "cell_type": "code",
   "execution_count": 27,
   "metadata": {},
   "outputs": [
    {
     "data": {
      "image/png": "[encoded data removed]",
      "text/plain": [
       "<Figure size 1200x600 with 1 Axes>"
      ]
     },
     "metadata": {},
     "output_type": "display_data"
    },
    {
     "data": {
      "text/plain": [
       "0.7626153834511092"
      ]
     },
     "execution_count": 27,
     "metadata": {},
     "output_type": "execute_result"
    }
   ],
   "source": [
    "objective_func_vals = []\n",
    "plt.rcParams[\"figure.figsize\"] = (12, 6)\n",
    "\n",
    "# fit to data\n",
    "regressor.fit(X_train, y_train)\n",
    "\n",
    "# return to default figsize\n",
    "plt.rcParams[\"figure.figsize\"] = (6, 4)\n",
    "\n",
    "# score the result\n",
    "regressor.score(X_train, y_train)"
   ]
  },
  {
   "cell_type": "code",
   "execution_count": 28,
   "metadata": {},
   "outputs": [
    {
     "name": "stdout",
     "output_type": "stream",
     "text": [
      "[[31.04548334]\n",
      " [14.38282469]\n",
      " [25.94668282]\n",
      " [31.67712656]\n",
      " [12.14263056]]\n"
     ]
    },
    {
     "data": {
      "image/png": "[encoded data removed]",
      "text/plain": [
       "<Figure size 600x400 with 1 Axes>"
      ]
     },
     "metadata": {},
     "output_type": "display_data"
    }
   ],
   "source": [
    "y_hat = regressor.predict(X_test)\n",
    "y_hat = y_scaler.inverse_transform(y_hat.reshape(-1,1))\n",
    "print(y_hat)\n",
    "y_test = y_scaler.inverse_transform(y_test.reshape(-1,1))\n",
    "\n",
    "plt.plot(element_test, y_hat, 'o', label=\"prediction\")\n",
    "plt.plot(element_test, y_test, 'o', label=\"test\")\n",
    "\n",
    "plt.xlabel(\"Element\")\n",
    "plt.ylabel(\"SFE\")\n",
    "#plt.legend([\"Predicted\", \"Actual\"], bbox_to_anchor=(1, 0.9), loc='upper left')\n",
    "plt.legend()\n",
    "plt.show()"
   ]
  },
  {
   "cell_type": "markdown",
   "metadata": {},
   "source": [
    "## Variational Quantum Regressor (VQR)\n",
    "\n",
    "### Setup"
   ]
  },
  {
   "cell_type": "code",
   "execution_count": 29,
   "metadata": {},
   "outputs": [],
   "source": [
    "from sklearn.preprocessing import MinMaxScaler, StandardScaler\n",
    "from sklearn.model_selection import train_test_split\n",
    "from sklearn.metrics import r2_score\n",
    "import pandas as pd\n",
    "import numpy as np\n",
    "from matplotlib import pyplot as plt\n",
    "from IPython.display import clear_output\n",
    "\n",
    "import time\n",
    "import csv\n",
    "from pathlib import Path\n",
    "\n",
    "from qiskit_algorithms.utils import algorithm_globals\n",
    "from qiskit.circuit.library import ZZFeatureMap, PauliFeatureMap\n",
    "from qiskit.circuit.library import RealAmplitudes\n",
    "from qiskit_algorithms.optimizers import COBYLA\n",
    "#from qiskit.primitives import StatevectorSampler\n",
    "from qiskit_machine_learning.algorithms.regressors import VQR\n",
    "\n",
    "#import seaborn as sns"
   ]
  },
  {
   "cell_type": "markdown",
   "metadata": {},
   "source": [
    "### Prepare Dataset"
   ]
  },
  {
   "cell_type": "code",
   "execution_count": 30,
   "metadata": {},
   "outputs": [],
   "source": [
    "#functions\n",
    "\n",
    "def prepare_dataset(y_scaler,test_ratio,X,y):\n",
    "    X_scaler = MinMaxScaler()\n",
    "    y_scaled = y_scaler.fit_transform(y.reshape(-1,1))\n",
    "    \n",
    "    X_train, X_test, y_train, y_test = train_test_split(X, y_scaled, test_size=test_ratio, shuffle=True)\n",
    "    element_test = X_test[:,0]\n",
    "    X=X[:,1:]\n",
    "    max_arr=np.max(X,axis=0)\n",
    "    #print(\"max_arr: \",max_arr,X/max_arr)\n",
    "    X=X/max_arr\n",
    "    #print(\"renormalized X: \",X)\n",
    "    sample_train=X_train[:,1:]/max_arr\n",
    "    sample_test=X_test[:,1:]/max_arr\n",
    "    # Normalise\n",
    "#     std_scale = StandardScaler().fit(X)\n",
    "#     sample_train = std_scale.transform(sample_train)\n",
    "#     sample_test = std_scale.transform(sample_test)\n",
    "\n",
    "    #print(sample_train[0])\n",
    "    # Scale\n",
    "    samples = np.append(sample_train, sample_test, axis=0)\n",
    "    minmax_scale = MinMaxScaler((-1, 1)).fit(samples)\n",
    "    X_train = minmax_scale.transform(sample_train)\n",
    "    X_test = minmax_scale.transform(sample_test)\n",
    "    #print(X_train) #[0])\n",
    "    \n",
    "    return X_train, y_train, X_test, y_test, element_test\n",
    "\n",
    "\n"
   ]
  },
  {
   "cell_type": "code",
   "execution_count": 31,
   "metadata": {},
   "outputs": [],
   "source": [
    "# df = pd.read_csv(\"qml_training-validation-data.csv\")\n",
    "# X = df[['Element', 'el_neg', 'B/GPa', 'Volume/A^3']].values\n",
    "# y = df['SFE/mJm^-3'].values\n",
    "\n",
    "# test_ratio = 0.1\n",
    "# X_scaler = StandardScaler()\n",
    "# y_scaler = StandardScaler()\n",
    "# X_train_scaler = StandardScaler()\n",
    "# y_train_scaler = StandardScaler()\n",
    "# X_test_scaler = StandardScaler()\n",
    "# y_test_scaler = StandardScaler()\n",
    "\n",
    "# def prepare_dataset(X, y, X_scaler, y_scaler, test_ratio):\n",
    "#     y = y_scaler.fit_transform(y.reshape(-1,1))\n",
    "#     X_train, X_test, y_train, y_test = train_test_split(X, y, test_size=test_ratio, shuffle=True)\n",
    "#     y_test_copy = y_test\n",
    "    \n",
    "#     X_joined = np.concatenate((X_train[:,1:], X_test[:,1:]))\n",
    "#     X_joined = X_scaler.fit_transform(X_joined.reshape(-1,3))\n",
    "\n",
    "#     element_test = X_test[:,0]\n",
    "    \n",
    "#     X_train = X_joined[:int(len(X_joined)*0.9)]\n",
    "#     X_test = X_joined[int(len(X_joined)*0.9):]\n",
    "    \n",
    "#     # X_train = X_train_scaler.fit_transform(X_train[:,1:])\n",
    "#     # y_train = y_scaler.fit_transform(y_train.reshape(-1,1))\n",
    "#     # y_train = y_train.reshape(-1,1)\n",
    "    \n",
    "#     # X_test = X_test_scaler.fit_transform(X_test[:,1:])\n",
    "#     # y_test = y_scaler.fit_transform(y_test.reshape(-1,1))\n",
    "#     # y_test = y_test.reshape(-1,1)\n",
    "\n",
    "#     return X_train, y_train, X_test, y_test, element_test"
   ]
  },
  {
   "cell_type": "markdown",
   "metadata": {},
   "source": [
    "### Feature Map"
   ]
  },
  {
   "cell_type": "code",
   "execution_count": 32,
   "metadata": {},
   "outputs": [
    {
     "data": {
      "image/png": "[encoded data removed]",
      "text/plain": [
       "<Figure size 1792.5x618.722 with 1 Axes>"
      ]
     },
     "execution_count": 32,
     "metadata": {},
     "output_type": "execute_result"
    }
   ],
   "source": [
    "feature_map = PauliFeatureMap(feature_dimension=3, reps=2, entanglement='full', alpha=1.0)\n",
    "def reconfig_featureMap(alpha):\n",
    "    feature_map = PauliFeatureMap(feature_dimension=3, reps=2, entanglement='full', alpha=alpha)\n",
    "feature_map.decompose().draw(output=\"mpl\", style=\"clifford\", fold=20)"
   ]
  },
  {
   "cell_type": "markdown",
   "metadata": {},
   "source": [
    "### Ansatz"
   ]
  },
  {
   "cell_type": "code",
   "execution_count": 33,
   "metadata": {},
   "outputs": [
    {
     "data": {
      "image/png": "[encoded data removed]",
      "text/plain": [
       "<Figure size 956.385x284.278 with 1 Axes>"
      ]
     },
     "execution_count": 33,
     "metadata": {},
     "output_type": "execute_result"
    }
   ],
   "source": [
    "ansatz = RealAmplitudes(num_qubits=3, reps=3)\n",
    "ansatz.decompose().draw(output=\"mpl\", style=\"clifford\", fold=20)"
   ]
  },
  {
   "cell_type": "markdown",
   "metadata": {},
   "source": [
    "### Optimizer"
   ]
  },
  {
   "cell_type": "code",
   "execution_count": 34,
   "metadata": {},
   "outputs": [],
   "source": [
    "optimizer = COBYLA(maxiter=100)"
   ]
  },
  {
   "cell_type": "markdown",
   "metadata": {},
   "source": [
    "### Objective Function and Callback Graphing"
   ]
  },
  {
   "cell_type": "code",
   "execution_count": 35,
   "metadata": {},
   "outputs": [],
   "source": [
    "objective_func_vals = []\n",
    "plt.rcParams[\"figure.figsize\"] = (12, 6)\n",
    "\n",
    "def callback_graph(weights, obj_func_eval):\n",
    "    clear_output(wait=True)\n",
    "    objective_func_vals.append(obj_func_eval)\n",
    "    plt.title(\"Objective function value against iteration\")\n",
    "    plt.xlabel(\"Iteration\")\n",
    "    plt.ylabel(\"Objective function value\")\n",
    "    plt.plot(range(len(objective_func_vals)), objective_func_vals)\n",
    "    plt.show()"
   ]
  },
  {
   "cell_type": "markdown",
   "metadata": {},
   "source": [
    "### Training"
   ]
  },
  {
   "cell_type": "code",
   "execution_count": 36,
   "metadata": {},
   "outputs": [],
   "source": [
    "def train(X_train, y_train, message):\n",
    "    vqr = VQR(\n",
    "        feature_map=feature_map,\n",
    "        ansatz=ansatz,\n",
    "        optimizer=optimizer,\n",
    "        callback=callback_graph,\n",
    "    )\n",
    "    \n",
    "    # clear objective value history\n",
    "    objective_func_vals = []\n",
    "    \n",
    "    start = time.time()\n",
    "    vqr.fit(X_train, y_train)\n",
    "    elapsed = time.time() - start\n",
    "\n",
    "    # plt.savefig(Path(message+\"train.png\"),dpi=300) # not gonna work\n",
    "    \n",
    "    print(f\"Training time: {round(elapsed)} seconds\")\n",
    "    return vqr"
   ]
  },
  {
   "cell_type": "code",
   "execution_count": 37,
   "metadata": {},
   "outputs": [],
   "source": [
    "def print_train_result(vqr, X_train, y_train):\n",
    "    train_score = vqr.score(X_train, y_train)\n",
    "    return train_score"
   ]
  },
  {
   "cell_type": "code",
   "execution_count": 38,
   "metadata": {},
   "outputs": [],
   "source": [
    "def show_prediction_graph(y_scaler, vqr, element_test, y_test, message):\n",
    "    # y_hat = vqr.predict(X_test_scaler.inverse_transform(X_test))\n",
    "    y_hat = vqr.predict(X_test)\n",
    "    y_test = y_scaler.inverse_transform(y_test)\n",
    "    y_hat = y_scaler.inverse_transform(y_hat)\n",
    "    plt.plot(element_test, y_scaler.inverse_transform(y_hat), 'o')\n",
    "    plt.plot(element_test, y_scaler.inverse_transform(y_test), 'o')\n",
    "    \n",
    "    plt.xlabel(\"Element\")\n",
    "    plt.ylabel(\"SFE\")\n",
    "    plt.legend([\"Predicted\", \"Actual\"], bbox_to_anchor=(1, 0.9), loc='upper left')\n",
    "\n",
    "    plt.savefig(Path(message+\"prediction.png\"),dpi=300)\n",
    "    plt.show()\n",
    "\n",
    "    return y_test, y_hat"
   ]
  },
  {
   "cell_type": "code",
   "execution_count": 39,
   "metadata": {},
   "outputs": [],
   "source": [
    "def accuracy(y_test, y_hat):\n",
    "    return r2_score(y_test, y_hat)"
   ]
  },
  {
   "cell_type": "markdown",
   "metadata": {},
   "source": [
    "### Recursive Tests"
   ]
  },
  {
   "cell_type": "code",
   "execution_count": 40,
   "metadata": {
    "scrolled": true
   },
   "outputs": [
    {
     "data": {
      "image/png": "[encoded data removed]",
      "text/plain": [
       "<Figure size 1200x600 with 1 Axes>"
      ]
     },
     "metadata": {},
     "output_type": "display_data"
    },
    {
     "name": "stderr",
     "output_type": "stream",
     "text": [
      "capi_return is NULL\n",
      "Call-back cb_calcfc_in__cobyla__user__routines failed.\n"
     ]
    },
    {
     "ename": "KeyboardInterrupt",
     "evalue": "",
     "output_type": "error",
     "traceback": [
      "\u001b[0;31m---------------------------------------------------------------------------\u001b[0m",
      "\u001b[0;31mKeyboardInterrupt\u001b[0m                         Traceback (most recent call last)",
      "Cell \u001b[0;32mIn[40], line 30\u001b[0m\n\u001b[1;32m     28\u001b[0m message \u001b[38;5;241m=\u001b[39m template[:\u001b[38;5;241m20\u001b[39m] \u001b[38;5;241m+\u001b[39m \u001b[38;5;28mstr\u001b[39m(\u001b[38;5;28mround\u001b[39m(start,\u001b[38;5;241m1\u001b[39m)) \u001b[38;5;241m+\u001b[39m template[\u001b[38;5;241m21\u001b[39m:\u001b[38;5;241m23\u001b[39m] \u001b[38;5;241m+\u001b[39m \u001b[38;5;28mstr\u001b[39m(i) \u001b[38;5;241m+\u001b[39m template[\u001b[38;5;241m24\u001b[39m:] \u001b[38;5;66;03m# modify the output figure name\u001b[39;00m\n\u001b[1;32m     29\u001b[0m X_train, y_train, X_test, y_test, element_test \u001b[38;5;241m=\u001b[39m prepare_dataset(y_scaler,test_ratio,X,y) \u001b[38;5;66;03m#prepare_dataset(X, y, X_scaler, y_scaler, test_ratio)\u001b[39;00m\n\u001b[0;32m---> 30\u001b[0m vqr \u001b[38;5;241m=\u001b[39m \u001b[43mtrain\u001b[49m\u001b[43m(\u001b[49m\u001b[43mX_train\u001b[49m\u001b[43m,\u001b[49m\u001b[43m \u001b[49m\u001b[43my_train\u001b[49m\u001b[43m,\u001b[49m\u001b[43m \u001b[49m\u001b[43mmessage\u001b[49m\u001b[43m)\u001b[49m\n\u001b[1;32m     31\u001b[0m y_test, y_hat \u001b[38;5;241m=\u001b[39m show_prediction_graph(y_scaler, vqr, element_test, y_test, message)\n\u001b[1;32m     32\u001b[0m y_test_all\u001b[38;5;241m.\u001b[39mappend(y_test), y_hat_all\u001b[38;5;241m.\u001b[39mappend(y_hat)\n",
      "Cell \u001b[0;32mIn[36], line 13\u001b[0m, in \u001b[0;36mtrain\u001b[0;34m(X_train, y_train, message)\u001b[0m\n\u001b[1;32m     10\u001b[0m objective_func_vals \u001b[38;5;241m=\u001b[39m []\n\u001b[1;32m     12\u001b[0m start \u001b[38;5;241m=\u001b[39m time\u001b[38;5;241m.\u001b[39mtime()\n\u001b[0;32m---> 13\u001b[0m \u001b[43mvqr\u001b[49m\u001b[38;5;241;43m.\u001b[39;49m\u001b[43mfit\u001b[49m\u001b[43m(\u001b[49m\u001b[43mX_train\u001b[49m\u001b[43m,\u001b[49m\u001b[43m \u001b[49m\u001b[43my_train\u001b[49m\u001b[43m)\u001b[49m\n\u001b[1;32m     14\u001b[0m elapsed \u001b[38;5;241m=\u001b[39m time\u001b[38;5;241m.\u001b[39mtime() \u001b[38;5;241m-\u001b[39m start\n\u001b[1;32m     16\u001b[0m \u001b[38;5;66;03m# plt.savefig(Path(message+\"train.png\"),dpi=300) # not gonna work\u001b[39;00m\n",
      "File \u001b[0;32m/ext3/miniforge3/lib/python3.12/site-packages/qiskit_machine_learning/algorithms/trainable_model.py:199\u001b[0m, in \u001b[0;36mTrainableModel.fit\u001b[0;34m(self, X, y)\u001b[0m\n\u001b[1;32m    196\u001b[0m \u001b[38;5;28;01mif\u001b[39;00m \u001b[38;5;129;01mnot\u001b[39;00m \u001b[38;5;28mself\u001b[39m\u001b[38;5;241m.\u001b[39m_warm_start:\n\u001b[1;32m    197\u001b[0m     \u001b[38;5;28mself\u001b[39m\u001b[38;5;241m.\u001b[39m_fit_result \u001b[38;5;241m=\u001b[39m \u001b[38;5;28;01mNone\u001b[39;00m\n\u001b[0;32m--> 199\u001b[0m \u001b[38;5;28mself\u001b[39m\u001b[38;5;241m.\u001b[39m_fit_result \u001b[38;5;241m=\u001b[39m \u001b[38;5;28;43mself\u001b[39;49m\u001b[38;5;241;43m.\u001b[39;49m\u001b[43m_fit_internal\u001b[49m\u001b[43m(\u001b[49m\u001b[43mX\u001b[49m\u001b[43m,\u001b[49m\u001b[43m \u001b[49m\u001b[43my\u001b[49m\u001b[43m)\u001b[49m\n\u001b[1;32m    200\u001b[0m \u001b[38;5;28;01mreturn\u001b[39;00m \u001b[38;5;28mself\u001b[39m\n",
      "File \u001b[0;32m/ext3/miniforge3/lib/python3.12/site-packages/qiskit_machine_learning/algorithms/regressors/neural_network_regressor.py:44\u001b[0m, in \u001b[0;36mNeuralNetworkRegressor._fit_internal\u001b[0;34m(self, X, y)\u001b[0m\n\u001b[1;32m     41\u001b[0m \u001b[38;5;28;01melse\u001b[39;00m:\n\u001b[1;32m     42\u001b[0m     function \u001b[38;5;241m=\u001b[39m MultiClassObjectiveFunction(X, y, \u001b[38;5;28mself\u001b[39m\u001b[38;5;241m.\u001b[39m_neural_network, \u001b[38;5;28mself\u001b[39m\u001b[38;5;241m.\u001b[39m_loss)\n\u001b[0;32m---> 44\u001b[0m \u001b[38;5;28;01mreturn\u001b[39;00m \u001b[38;5;28;43mself\u001b[39;49m\u001b[38;5;241;43m.\u001b[39;49m\u001b[43m_minimize\u001b[49m\u001b[43m(\u001b[49m\u001b[43mfunction\u001b[49m\u001b[43m)\u001b[49m\n",
      "File \u001b[0;32m/ext3/miniforge3/lib/python3.12/site-packages/qiskit_machine_learning/algorithms/trainable_model.py:295\u001b[0m, in \u001b[0;36mTrainableModel._minimize\u001b[0;34m(self, function)\u001b[0m\n\u001b[1;32m    291\u001b[0m     optimizer_result \u001b[38;5;241m=\u001b[39m \u001b[38;5;28mself\u001b[39m\u001b[38;5;241m.\u001b[39m_optimizer(\n\u001b[1;32m    292\u001b[0m         fun\u001b[38;5;241m=\u001b[39mobjective, x0\u001b[38;5;241m=\u001b[39minitial_point, jac\u001b[38;5;241m=\u001b[39mfunction\u001b[38;5;241m.\u001b[39mgradient\n\u001b[1;32m    293\u001b[0m     )\n\u001b[1;32m    294\u001b[0m \u001b[38;5;28;01melse\u001b[39;00m:\n\u001b[0;32m--> 295\u001b[0m     optimizer_result \u001b[38;5;241m=\u001b[39m \u001b[38;5;28;43mself\u001b[39;49m\u001b[38;5;241;43m.\u001b[39;49m\u001b[43m_optimizer\u001b[49m\u001b[38;5;241;43m.\u001b[39;49m\u001b[43mminimize\u001b[49m\u001b[43m(\u001b[49m\n\u001b[1;32m    296\u001b[0m \u001b[43m        \u001b[49m\u001b[43mfun\u001b[49m\u001b[38;5;241;43m=\u001b[39;49m\u001b[43mobjective\u001b[49m\u001b[43m,\u001b[49m\n\u001b[1;32m    297\u001b[0m \u001b[43m        \u001b[49m\u001b[43mx0\u001b[49m\u001b[38;5;241;43m=\u001b[39;49m\u001b[43minitial_point\u001b[49m\u001b[43m,\u001b[49m\n\u001b[1;32m    298\u001b[0m \u001b[43m        \u001b[49m\u001b[43mjac\u001b[49m\u001b[38;5;241;43m=\u001b[39;49m\u001b[43mfunction\u001b[49m\u001b[38;5;241;43m.\u001b[39;49m\u001b[43mgradient\u001b[49m\u001b[43m,\u001b[49m\n\u001b[1;32m    299\u001b[0m \u001b[43m    \u001b[49m\u001b[43m)\u001b[49m\n\u001b[1;32m    300\u001b[0m \u001b[38;5;28;01mreturn\u001b[39;00m optimizer_result\n",
      "File \u001b[0;32m/ext3/miniforge3/lib/python3.12/site-packages/qiskit_algorithms/optimizers/scipy_optimizer.py:148\u001b[0m, in \u001b[0;36mSciPyOptimizer.minimize\u001b[0;34m(self, fun, x0, jac, bounds)\u001b[0m\n\u001b[1;32m    145\u001b[0m     swapped_deprecated_args \u001b[38;5;241m=\u001b[39m \u001b[38;5;28;01mTrue\u001b[39;00m\n\u001b[1;32m    146\u001b[0m     \u001b[38;5;28mself\u001b[39m\u001b[38;5;241m.\u001b[39m_options[\u001b[38;5;124m\"\u001b[39m\u001b[38;5;124mmaxfun\u001b[39m\u001b[38;5;124m\"\u001b[39m] \u001b[38;5;241m=\u001b[39m \u001b[38;5;28mself\u001b[39m\u001b[38;5;241m.\u001b[39m_options\u001b[38;5;241m.\u001b[39mpop(\u001b[38;5;124m\"\u001b[39m\u001b[38;5;124mmaxiter\u001b[39m\u001b[38;5;124m\"\u001b[39m)\n\u001b[0;32m--> 148\u001b[0m raw_result \u001b[38;5;241m=\u001b[39m \u001b[43mminimize\u001b[49m\u001b[43m(\u001b[49m\n\u001b[1;32m    149\u001b[0m \u001b[43m    \u001b[49m\u001b[43mfun\u001b[49m\u001b[38;5;241;43m=\u001b[39;49m\u001b[43mfun\u001b[49m\u001b[43m,\u001b[49m\n\u001b[1;32m    150\u001b[0m \u001b[43m    \u001b[49m\u001b[43mx0\u001b[49m\u001b[38;5;241;43m=\u001b[39;49m\u001b[43mx0\u001b[49m\u001b[43m,\u001b[49m\n\u001b[1;32m    151\u001b[0m \u001b[43m    \u001b[49m\u001b[43mmethod\u001b[49m\u001b[38;5;241;43m=\u001b[39;49m\u001b[38;5;28;43mself\u001b[39;49m\u001b[38;5;241;43m.\u001b[39;49m\u001b[43m_method\u001b[49m\u001b[43m,\u001b[49m\n\u001b[1;32m    152\u001b[0m \u001b[43m    \u001b[49m\u001b[43mjac\u001b[49m\u001b[38;5;241;43m=\u001b[39;49m\u001b[43mjac\u001b[49m\u001b[43m,\u001b[49m\n\u001b[1;32m    153\u001b[0m \u001b[43m    \u001b[49m\u001b[43mbounds\u001b[49m\u001b[38;5;241;43m=\u001b[39;49m\u001b[43mbounds\u001b[49m\u001b[43m,\u001b[49m\n\u001b[1;32m    154\u001b[0m \u001b[43m    \u001b[49m\u001b[43moptions\u001b[49m\u001b[38;5;241;43m=\u001b[39;49m\u001b[38;5;28;43mself\u001b[39;49m\u001b[38;5;241;43m.\u001b[39;49m\u001b[43m_options\u001b[49m\u001b[43m,\u001b[49m\n\u001b[1;32m    155\u001b[0m \u001b[43m    \u001b[49m\u001b[38;5;241;43m*\u001b[39;49m\u001b[38;5;241;43m*\u001b[39;49m\u001b[38;5;28;43mself\u001b[39;49m\u001b[38;5;241;43m.\u001b[39;49m\u001b[43m_kwargs\u001b[49m\u001b[43m,\u001b[49m\n\u001b[1;32m    156\u001b[0m \u001b[43m\u001b[49m\u001b[43m)\u001b[49m\n\u001b[1;32m    157\u001b[0m \u001b[38;5;28;01mif\u001b[39;00m swapped_deprecated_args:\n\u001b[1;32m    158\u001b[0m     \u001b[38;5;28mself\u001b[39m\u001b[38;5;241m.\u001b[39m_options[\u001b[38;5;124m\"\u001b[39m\u001b[38;5;124mmaxiter\u001b[39m\u001b[38;5;124m\"\u001b[39m] \u001b[38;5;241m=\u001b[39m \u001b[38;5;28mself\u001b[39m\u001b[38;5;241m.\u001b[39m_options\u001b[38;5;241m.\u001b[39mpop(\u001b[38;5;124m\"\u001b[39m\u001b[38;5;124mmaxfun\u001b[39m\u001b[38;5;124m\"\u001b[39m)\n",
      "File \u001b[0;32m/ext3/miniforge3/lib/python3.12/site-packages/scipy/optimize/_minimize.py:737\u001b[0m, in \u001b[0;36mminimize\u001b[0;34m(fun, x0, args, method, jac, hess, hessp, bounds, constraints, tol, callback, options)\u001b[0m\n\u001b[1;32m    734\u001b[0m     res \u001b[38;5;241m=\u001b[39m _minimize_tnc(fun, x0, args, jac, bounds, callback\u001b[38;5;241m=\u001b[39mcallback,\n\u001b[1;32m    735\u001b[0m                         \u001b[38;5;241m*\u001b[39m\u001b[38;5;241m*\u001b[39moptions)\n\u001b[1;32m    736\u001b[0m \u001b[38;5;28;01melif\u001b[39;00m meth \u001b[38;5;241m==\u001b[39m \u001b[38;5;124m'\u001b[39m\u001b[38;5;124mcobyla\u001b[39m\u001b[38;5;124m'\u001b[39m:\n\u001b[0;32m--> 737\u001b[0m     res \u001b[38;5;241m=\u001b[39m \u001b[43m_minimize_cobyla\u001b[49m\u001b[43m(\u001b[49m\u001b[43mfun\u001b[49m\u001b[43m,\u001b[49m\u001b[43m \u001b[49m\u001b[43mx0\u001b[49m\u001b[43m,\u001b[49m\u001b[43m \u001b[49m\u001b[43margs\u001b[49m\u001b[43m,\u001b[49m\u001b[43m \u001b[49m\u001b[43mconstraints\u001b[49m\u001b[43m,\u001b[49m\u001b[43m \u001b[49m\u001b[43mcallback\u001b[49m\u001b[38;5;241;43m=\u001b[39;49m\u001b[43mcallback\u001b[49m\u001b[43m,\u001b[49m\n\u001b[1;32m    738\u001b[0m \u001b[43m                           \u001b[49m\u001b[43mbounds\u001b[49m\u001b[38;5;241;43m=\u001b[39;49m\u001b[43mbounds\u001b[49m\u001b[43m,\u001b[49m\u001b[43m \u001b[49m\u001b[38;5;241;43m*\u001b[39;49m\u001b[38;5;241;43m*\u001b[39;49m\u001b[43moptions\u001b[49m\u001b[43m)\u001b[49m\n\u001b[1;32m    739\u001b[0m \u001b[38;5;28;01melif\u001b[39;00m meth \u001b[38;5;241m==\u001b[39m \u001b[38;5;124m'\u001b[39m\u001b[38;5;124mcobyqa\u001b[39m\u001b[38;5;124m'\u001b[39m:\n\u001b[1;32m    740\u001b[0m     res \u001b[38;5;241m=\u001b[39m _minimize_cobyqa(fun, x0, args, bounds, constraints, callback,\n\u001b[1;32m    741\u001b[0m                            \u001b[38;5;241m*\u001b[39m\u001b[38;5;241m*\u001b[39moptions)\n",
      "File \u001b[0;32m/ext3/miniforge3/lib/python3.12/site-packages/scipy/optimize/_cobyla_py.py:35\u001b[0m, in \u001b[0;36msynchronized.<locals>.wrapper\u001b[0;34m(*args, **kwargs)\u001b[0m\n\u001b[1;32m     32\u001b[0m \u001b[38;5;129m@functools\u001b[39m\u001b[38;5;241m.\u001b[39mwraps(func)\n\u001b[1;32m     33\u001b[0m \u001b[38;5;28;01mdef\u001b[39;00m \u001b[38;5;21mwrapper\u001b[39m(\u001b[38;5;241m*\u001b[39margs, \u001b[38;5;241m*\u001b[39m\u001b[38;5;241m*\u001b[39mkwargs):\n\u001b[1;32m     34\u001b[0m     \u001b[38;5;28;01mwith\u001b[39;00m _module_lock:\n\u001b[0;32m---> 35\u001b[0m         \u001b[38;5;28;01mreturn\u001b[39;00m \u001b[43mfunc\u001b[49m\u001b[43m(\u001b[49m\u001b[38;5;241;43m*\u001b[39;49m\u001b[43margs\u001b[49m\u001b[43m,\u001b[49m\u001b[43m \u001b[49m\u001b[38;5;241;43m*\u001b[39;49m\u001b[38;5;241;43m*\u001b[39;49m\u001b[43mkwargs\u001b[49m\u001b[43m)\u001b[49m\n",
      "File \u001b[0;32m/ext3/miniforge3/lib/python3.12/site-packages/scipy/optimize/_cobyla_py.py:293\u001b[0m, in \u001b[0;36m_minimize_cobyla\u001b[0;34m(fun, x0, args, constraints, rhobeg, tol, maxiter, disp, catol, callback, bounds, **unknown_options)\u001b[0m\n\u001b[1;32m    290\u001b[0m         callback(np\u001b[38;5;241m.\u001b[39mcopy(x))\n\u001b[1;32m    292\u001b[0m info \u001b[38;5;241m=\u001b[39m np\u001b[38;5;241m.\u001b[39mzeros(\u001b[38;5;241m4\u001b[39m, np\u001b[38;5;241m.\u001b[39mfloat64)\n\u001b[0;32m--> 293\u001b[0m xopt, info \u001b[38;5;241m=\u001b[39m \u001b[43mcobyla\u001b[49m\u001b[38;5;241;43m.\u001b[39;49m\u001b[43mminimize\u001b[49m\u001b[43m(\u001b[49m\u001b[43mcalcfc\u001b[49m\u001b[43m,\u001b[49m\u001b[43m \u001b[49m\u001b[43mm\u001b[49m\u001b[38;5;241;43m=\u001b[39;49m\u001b[43mm\u001b[49m\u001b[43m,\u001b[49m\u001b[43m \u001b[49m\u001b[43mx\u001b[49m\u001b[38;5;241;43m=\u001b[39;49m\u001b[43mnp\u001b[49m\u001b[38;5;241;43m.\u001b[39;49m\u001b[43mcopy\u001b[49m\u001b[43m(\u001b[49m\u001b[43mx0\u001b[49m\u001b[43m)\u001b[49m\u001b[43m,\u001b[49m\u001b[43m \u001b[49m\u001b[43mrhobeg\u001b[49m\u001b[38;5;241;43m=\u001b[39;49m\u001b[43mrhobeg\u001b[49m\u001b[43m,\u001b[49m\n\u001b[1;32m    294\u001b[0m \u001b[43m                              \u001b[49m\u001b[43mrhoend\u001b[49m\u001b[38;5;241;43m=\u001b[39;49m\u001b[43mrhoend\u001b[49m\u001b[43m,\u001b[49m\u001b[43m \u001b[49m\u001b[43miprint\u001b[49m\u001b[38;5;241;43m=\u001b[39;49m\u001b[43miprint\u001b[49m\u001b[43m,\u001b[49m\u001b[43m \u001b[49m\u001b[43mmaxfun\u001b[49m\u001b[38;5;241;43m=\u001b[39;49m\u001b[43mmaxfun\u001b[49m\u001b[43m,\u001b[49m\n\u001b[1;32m    295\u001b[0m \u001b[43m                              \u001b[49m\u001b[43mdinfo\u001b[49m\u001b[38;5;241;43m=\u001b[39;49m\u001b[43minfo\u001b[49m\u001b[43m,\u001b[49m\u001b[43m \u001b[49m\u001b[43mcallback\u001b[49m\u001b[38;5;241;43m=\u001b[39;49m\u001b[43mwrapped_callback\u001b[49m\u001b[43m)\u001b[49m\n\u001b[1;32m    297\u001b[0m \u001b[38;5;28;01mif\u001b[39;00m info[\u001b[38;5;241m3\u001b[39m] \u001b[38;5;241m>\u001b[39m catol:\n\u001b[1;32m    298\u001b[0m     \u001b[38;5;66;03m# Check constraint violation\u001b[39;00m\n\u001b[1;32m    299\u001b[0m     info[\u001b[38;5;241m0\u001b[39m] \u001b[38;5;241m=\u001b[39m \u001b[38;5;241m4\u001b[39m\n",
      "File \u001b[0;32m/ext3/miniforge3/lib/python3.12/site-packages/scipy/optimize/_cobyla_py.py:281\u001b[0m, in \u001b[0;36m_minimize_cobyla.<locals>.calcfc\u001b[0;34m(x, con)\u001b[0m\n\u001b[1;32m    280\u001b[0m \u001b[38;5;28;01mdef\u001b[39;00m \u001b[38;5;21mcalcfc\u001b[39m(x, con):\n\u001b[0;32m--> 281\u001b[0m     f \u001b[38;5;241m=\u001b[39m \u001b[43msf\u001b[49m\u001b[38;5;241;43m.\u001b[39;49m\u001b[43mfun\u001b[49m\u001b[43m(\u001b[49m\u001b[43mx\u001b[49m\u001b[43m)\u001b[49m\n\u001b[1;32m    282\u001b[0m     i \u001b[38;5;241m=\u001b[39m \u001b[38;5;241m0\u001b[39m\n\u001b[1;32m    283\u001b[0m     \u001b[38;5;28;01mfor\u001b[39;00m size, c \u001b[38;5;129;01min\u001b[39;00m izip(cons_lengths, constraints):\n",
      "File \u001b[0;32m/ext3/miniforge3/lib/python3.12/site-packages/scipy/optimize/_differentiable_functions.py:325\u001b[0m, in \u001b[0;36mScalarFunction.fun\u001b[0;34m(self, x)\u001b[0m\n\u001b[1;32m    323\u001b[0m \u001b[38;5;28;01mif\u001b[39;00m \u001b[38;5;129;01mnot\u001b[39;00m np\u001b[38;5;241m.\u001b[39marray_equal(x, \u001b[38;5;28mself\u001b[39m\u001b[38;5;241m.\u001b[39mx):\n\u001b[1;32m    324\u001b[0m     \u001b[38;5;28mself\u001b[39m\u001b[38;5;241m.\u001b[39m_update_x(x)\n\u001b[0;32m--> 325\u001b[0m \u001b[38;5;28;43mself\u001b[39;49m\u001b[38;5;241;43m.\u001b[39;49m\u001b[43m_update_fun\u001b[49m\u001b[43m(\u001b[49m\u001b[43m)\u001b[49m\n\u001b[1;32m    326\u001b[0m \u001b[38;5;28;01mreturn\u001b[39;00m \u001b[38;5;28mself\u001b[39m\u001b[38;5;241m.\u001b[39mf\n",
      "File \u001b[0;32m/ext3/miniforge3/lib/python3.12/site-packages/scipy/optimize/_differentiable_functions.py:294\u001b[0m, in \u001b[0;36mScalarFunction._update_fun\u001b[0;34m(self)\u001b[0m\n\u001b[1;32m    292\u001b[0m \u001b[38;5;28;01mdef\u001b[39;00m \u001b[38;5;21m_update_fun\u001b[39m(\u001b[38;5;28mself\u001b[39m):\n\u001b[1;32m    293\u001b[0m     \u001b[38;5;28;01mif\u001b[39;00m \u001b[38;5;129;01mnot\u001b[39;00m \u001b[38;5;28mself\u001b[39m\u001b[38;5;241m.\u001b[39mf_updated:\n\u001b[0;32m--> 294\u001b[0m         fx \u001b[38;5;241m=\u001b[39m \u001b[38;5;28;43mself\u001b[39;49m\u001b[38;5;241;43m.\u001b[39;49m\u001b[43m_wrapped_fun\u001b[49m\u001b[43m(\u001b[49m\u001b[38;5;28;43mself\u001b[39;49m\u001b[38;5;241;43m.\u001b[39;49m\u001b[43mx\u001b[49m\u001b[43m)\u001b[49m\n\u001b[1;32m    295\u001b[0m         \u001b[38;5;28;01mif\u001b[39;00m fx \u001b[38;5;241m<\u001b[39m \u001b[38;5;28mself\u001b[39m\u001b[38;5;241m.\u001b[39m_lowest_f:\n\u001b[1;32m    296\u001b[0m             \u001b[38;5;28mself\u001b[39m\u001b[38;5;241m.\u001b[39m_lowest_x \u001b[38;5;241m=\u001b[39m \u001b[38;5;28mself\u001b[39m\u001b[38;5;241m.\u001b[39mx\n",
      "File \u001b[0;32m/ext3/miniforge3/lib/python3.12/site-packages/scipy/optimize/_differentiable_functions.py:20\u001b[0m, in \u001b[0;36m_wrapper_fun.<locals>.wrapped\u001b[0;34m(x)\u001b[0m\n\u001b[1;32m     16\u001b[0m ncalls[\u001b[38;5;241m0\u001b[39m] \u001b[38;5;241m+\u001b[39m\u001b[38;5;241m=\u001b[39m \u001b[38;5;241m1\u001b[39m\n\u001b[1;32m     17\u001b[0m \u001b[38;5;66;03m# Send a copy because the user may overwrite it.\u001b[39;00m\n\u001b[1;32m     18\u001b[0m \u001b[38;5;66;03m# Overwriting results in undefined behaviour because\u001b[39;00m\n\u001b[1;32m     19\u001b[0m \u001b[38;5;66;03m# fun(self.x) will change self.x, with the two no longer linked.\u001b[39;00m\n\u001b[0;32m---> 20\u001b[0m fx \u001b[38;5;241m=\u001b[39m \u001b[43mfun\u001b[49m\u001b[43m(\u001b[49m\u001b[43mnp\u001b[49m\u001b[38;5;241;43m.\u001b[39;49m\u001b[43mcopy\u001b[49m\u001b[43m(\u001b[49m\u001b[43mx\u001b[49m\u001b[43m)\u001b[49m\u001b[43m,\u001b[49m\u001b[43m \u001b[49m\u001b[38;5;241;43m*\u001b[39;49m\u001b[43margs\u001b[49m\u001b[43m)\u001b[49m\n\u001b[1;32m     21\u001b[0m \u001b[38;5;66;03m# Make sure the function returns a true scalar\u001b[39;00m\n\u001b[1;32m     22\u001b[0m \u001b[38;5;28;01mif\u001b[39;00m \u001b[38;5;129;01mnot\u001b[39;00m np\u001b[38;5;241m.\u001b[39misscalar(fx):\n",
      "File \u001b[0;32m/ext3/miniforge3/lib/python3.12/site-packages/qiskit_machine_learning/algorithms/trainable_model.py:271\u001b[0m, in \u001b[0;36mTrainableModel._get_objective.<locals>.objective\u001b[0;34m(objective_weights)\u001b[0m\n\u001b[1;32m    270\u001b[0m \u001b[38;5;28;01mdef\u001b[39;00m \u001b[38;5;21mobjective\u001b[39m(objective_weights):\n\u001b[0;32m--> 271\u001b[0m     objective_value \u001b[38;5;241m=\u001b[39m \u001b[43mfunction\u001b[49m\u001b[38;5;241;43m.\u001b[39;49m\u001b[43mobjective\u001b[49m\u001b[43m(\u001b[49m\u001b[43mobjective_weights\u001b[49m\u001b[43m)\u001b[49m\n\u001b[1;32m    272\u001b[0m     \u001b[38;5;28mself\u001b[39m\u001b[38;5;241m.\u001b[39m_callback(objective_weights, objective_value)\n\u001b[1;32m    273\u001b[0m     \u001b[38;5;28;01mreturn\u001b[39;00m objective_value\n",
      "File \u001b[0;32m/ext3/miniforge3/lib/python3.12/site-packages/qiskit_machine_learning/algorithms/objective_functions.py:115\u001b[0m, in \u001b[0;36mBinaryObjectiveFunction.objective\u001b[0;34m(self, weights)\u001b[0m\n\u001b[1;32m    113\u001b[0m \u001b[38;5;28;01mdef\u001b[39;00m \u001b[38;5;21mobjective\u001b[39m(\u001b[38;5;28mself\u001b[39m, weights: np\u001b[38;5;241m.\u001b[39mndarray) \u001b[38;5;241m-\u001b[39m\u001b[38;5;241m>\u001b[39m \u001b[38;5;28mfloat\u001b[39m:\n\u001b[1;32m    114\u001b[0m     \u001b[38;5;66;03m# predict is of shape (N, 1), where N is a number of samples\u001b[39;00m\n\u001b[0;32m--> 115\u001b[0m     predict \u001b[38;5;241m=\u001b[39m \u001b[38;5;28;43mself\u001b[39;49m\u001b[38;5;241;43m.\u001b[39;49m\u001b[43m_neural_network_forward\u001b[49m\u001b[43m(\u001b[49m\u001b[43mweights\u001b[49m\u001b[43m)\u001b[49m\n\u001b[1;32m    116\u001b[0m     target \u001b[38;5;241m=\u001b[39m np\u001b[38;5;241m.\u001b[39marray(\u001b[38;5;28mself\u001b[39m\u001b[38;5;241m.\u001b[39m_y)\u001b[38;5;241m.\u001b[39mreshape(predict\u001b[38;5;241m.\u001b[39mshape)\n\u001b[1;32m    117\u001b[0m     \u001b[38;5;66;03m# float(...) is for mypy compliance\u001b[39;00m\n",
      "File \u001b[0;32m/ext3/miniforge3/lib/python3.12/site-packages/qiskit_machine_learning/algorithms/objective_functions.py:102\u001b[0m, in \u001b[0;36mObjectiveFunction._neural_network_forward\u001b[0;34m(self, weights)\u001b[0m\n\u001b[1;32m     97\u001b[0m \u001b[38;5;66;03m# if we get the same weights, we don't compute the forward pass again.\u001b[39;00m\n\u001b[1;32m     98\u001b[0m \u001b[38;5;28;01mif\u001b[39;00m \u001b[38;5;28mself\u001b[39m\u001b[38;5;241m.\u001b[39m_last_forward_weights \u001b[38;5;129;01mis\u001b[39;00m \u001b[38;5;28;01mNone\u001b[39;00m \u001b[38;5;129;01mor\u001b[39;00m (\n\u001b[1;32m     99\u001b[0m     \u001b[38;5;129;01mnot\u001b[39;00m np\u001b[38;5;241m.\u001b[39mall(np\u001b[38;5;241m.\u001b[39misclose(weights, \u001b[38;5;28mself\u001b[39m\u001b[38;5;241m.\u001b[39m_last_forward_weights))\n\u001b[1;32m    100\u001b[0m ):\n\u001b[1;32m    101\u001b[0m     \u001b[38;5;66;03m# compute forward and cache the results for re-use in backward\u001b[39;00m\n\u001b[0;32m--> 102\u001b[0m     \u001b[38;5;28mself\u001b[39m\u001b[38;5;241m.\u001b[39m_last_forward \u001b[38;5;241m=\u001b[39m \u001b[38;5;28;43mself\u001b[39;49m\u001b[38;5;241;43m.\u001b[39;49m\u001b[43m_neural_network\u001b[49m\u001b[38;5;241;43m.\u001b[39;49m\u001b[43mforward\u001b[49m\u001b[43m(\u001b[49m\u001b[38;5;28;43mself\u001b[39;49m\u001b[38;5;241;43m.\u001b[39;49m\u001b[43m_X\u001b[49m\u001b[43m,\u001b[49m\u001b[43m \u001b[49m\u001b[43mweights\u001b[49m\u001b[43m)\u001b[49m\n\u001b[1;32m    103\u001b[0m     \u001b[38;5;66;03m# a copy avoids keeping a reference to the same array, so we are sure we have\u001b[39;00m\n\u001b[1;32m    104\u001b[0m     \u001b[38;5;66;03m# different arrays on the next iteration.\u001b[39;00m\n\u001b[1;32m    105\u001b[0m     \u001b[38;5;28mself\u001b[39m\u001b[38;5;241m.\u001b[39m_last_forward_weights \u001b[38;5;241m=\u001b[39m np\u001b[38;5;241m.\u001b[39mcopy(weights)\n",
      "File \u001b[0;32m/ext3/miniforge3/lib/python3.12/site-packages/qiskit_machine_learning/neural_networks/neural_network.py:228\u001b[0m, in \u001b[0;36mNeuralNetwork.forward\u001b[0;34m(self, input_data, weights)\u001b[0m\n\u001b[1;32m    226\u001b[0m input_, shape \u001b[38;5;241m=\u001b[39m \u001b[38;5;28mself\u001b[39m\u001b[38;5;241m.\u001b[39m_validate_input(input_data)\n\u001b[1;32m    227\u001b[0m weights_ \u001b[38;5;241m=\u001b[39m \u001b[38;5;28mself\u001b[39m\u001b[38;5;241m.\u001b[39m_validate_weights(weights)\n\u001b[0;32m--> 228\u001b[0m output_data \u001b[38;5;241m=\u001b[39m \u001b[38;5;28;43mself\u001b[39;49m\u001b[38;5;241;43m.\u001b[39;49m\u001b[43m_forward\u001b[49m\u001b[43m(\u001b[49m\u001b[43minput_\u001b[49m\u001b[43m,\u001b[49m\u001b[43m \u001b[49m\u001b[43mweights_\u001b[49m\u001b[43m)\u001b[49m\n\u001b[1;32m    229\u001b[0m \u001b[38;5;28;01mreturn\u001b[39;00m \u001b[38;5;28mself\u001b[39m\u001b[38;5;241m.\u001b[39m_validate_forward_output(output_data, shape)\n",
      "File \u001b[0;32m/ext3/miniforge3/lib/python3.12/site-packages/qiskit_machine_learning/neural_networks/estimator_qnn.py:224\u001b[0m, in \u001b[0;36mEstimatorQNN._forward\u001b[0;34m(self, input_data, weights)\u001b[0m\n\u001b[1;32m    218\u001b[0m job \u001b[38;5;241m=\u001b[39m \u001b[38;5;28mself\u001b[39m\u001b[38;5;241m.\u001b[39mestimator\u001b[38;5;241m.\u001b[39mrun(\n\u001b[1;32m    219\u001b[0m     [\u001b[38;5;28mself\u001b[39m\u001b[38;5;241m.\u001b[39m_circuit] \u001b[38;5;241m*\u001b[39m num_samples \u001b[38;5;241m*\u001b[39m \u001b[38;5;28mself\u001b[39m\u001b[38;5;241m.\u001b[39moutput_shape[\u001b[38;5;241m0\u001b[39m],\n\u001b[1;32m    220\u001b[0m     [op \u001b[38;5;28;01mfor\u001b[39;00m op \u001b[38;5;129;01min\u001b[39;00m \u001b[38;5;28mself\u001b[39m\u001b[38;5;241m.\u001b[39m_observables \u001b[38;5;28;01mfor\u001b[39;00m _ \u001b[38;5;129;01min\u001b[39;00m \u001b[38;5;28mrange\u001b[39m(num_samples)],\n\u001b[1;32m    221\u001b[0m     np\u001b[38;5;241m.\u001b[39mtile(parameter_values_, (\u001b[38;5;28mself\u001b[39m\u001b[38;5;241m.\u001b[39moutput_shape[\u001b[38;5;241m0\u001b[39m], \u001b[38;5;241m1\u001b[39m)),\n\u001b[1;32m    222\u001b[0m )\n\u001b[1;32m    223\u001b[0m \u001b[38;5;28;01mtry\u001b[39;00m:\n\u001b[0;32m--> 224\u001b[0m     results \u001b[38;5;241m=\u001b[39m \u001b[43mjob\u001b[49m\u001b[38;5;241;43m.\u001b[39;49m\u001b[43mresult\u001b[49m\u001b[43m(\u001b[49m\u001b[43m)\u001b[49m\n\u001b[1;32m    225\u001b[0m \u001b[38;5;28;01mexcept\u001b[39;00m \u001b[38;5;167;01mException\u001b[39;00m \u001b[38;5;28;01mas\u001b[39;00m exc:\n\u001b[1;32m    226\u001b[0m     \u001b[38;5;28;01mraise\u001b[39;00m QiskitMachineLearningError(\u001b[38;5;124m\"\u001b[39m\u001b[38;5;124mEstimator job failed.\u001b[39m\u001b[38;5;124m\"\u001b[39m) \u001b[38;5;28;01mfrom\u001b[39;00m \u001b[38;5;21;01mexc\u001b[39;00m\n",
      "File \u001b[0;32m/ext3/miniforge3/lib/python3.12/site-packages/qiskit/primitives/primitive_job.py:51\u001b[0m, in \u001b[0;36mPrimitiveJob.result\u001b[0;34m(self)\u001b[0m\n\u001b[1;32m     49\u001b[0m \u001b[38;5;28;01mdef\u001b[39;00m \u001b[38;5;21mresult\u001b[39m(\u001b[38;5;28mself\u001b[39m) \u001b[38;5;241m-\u001b[39m\u001b[38;5;241m>\u001b[39m ResultT:\n\u001b[1;32m     50\u001b[0m     \u001b[38;5;28mself\u001b[39m\u001b[38;5;241m.\u001b[39m_check_submitted()\n\u001b[0;32m---> 51\u001b[0m     \u001b[38;5;28;01mreturn\u001b[39;00m \u001b[38;5;28;43mself\u001b[39;49m\u001b[38;5;241;43m.\u001b[39;49m\u001b[43m_future\u001b[49m\u001b[38;5;241;43m.\u001b[39;49m\u001b[43mresult\u001b[49m\u001b[43m(\u001b[49m\u001b[43m)\u001b[49m\n",
      "File \u001b[0;32m/ext3/miniforge3/lib/python3.12/concurrent/futures/_base.py:451\u001b[0m, in \u001b[0;36mFuture.result\u001b[0;34m(self, timeout)\u001b[0m\n\u001b[1;32m    448\u001b[0m \u001b[38;5;28;01melif\u001b[39;00m \u001b[38;5;28mself\u001b[39m\u001b[38;5;241m.\u001b[39m_state \u001b[38;5;241m==\u001b[39m FINISHED:\n\u001b[1;32m    449\u001b[0m     \u001b[38;5;28;01mreturn\u001b[39;00m \u001b[38;5;28mself\u001b[39m\u001b[38;5;241m.\u001b[39m__get_result()\n\u001b[0;32m--> 451\u001b[0m \u001b[38;5;28;43mself\u001b[39;49m\u001b[38;5;241;43m.\u001b[39;49m\u001b[43m_condition\u001b[49m\u001b[38;5;241;43m.\u001b[39;49m\u001b[43mwait\u001b[49m\u001b[43m(\u001b[49m\u001b[43mtimeout\u001b[49m\u001b[43m)\u001b[49m\n\u001b[1;32m    453\u001b[0m \u001b[38;5;28;01mif\u001b[39;00m \u001b[38;5;28mself\u001b[39m\u001b[38;5;241m.\u001b[39m_state \u001b[38;5;129;01min\u001b[39;00m [CANCELLED, CANCELLED_AND_NOTIFIED]:\n\u001b[1;32m    454\u001b[0m     \u001b[38;5;28;01mraise\u001b[39;00m CancelledError()\n",
      "File \u001b[0;32m/ext3/miniforge3/lib/python3.12/threading.py:355\u001b[0m, in \u001b[0;36mCondition.wait\u001b[0;34m(self, timeout)\u001b[0m\n\u001b[1;32m    353\u001b[0m \u001b[38;5;28;01mtry\u001b[39;00m:    \u001b[38;5;66;03m# restore state no matter what (e.g., KeyboardInterrupt)\u001b[39;00m\n\u001b[1;32m    354\u001b[0m     \u001b[38;5;28;01mif\u001b[39;00m timeout \u001b[38;5;129;01mis\u001b[39;00m \u001b[38;5;28;01mNone\u001b[39;00m:\n\u001b[0;32m--> 355\u001b[0m         \u001b[43mwaiter\u001b[49m\u001b[38;5;241;43m.\u001b[39;49m\u001b[43macquire\u001b[49m\u001b[43m(\u001b[49m\u001b[43m)\u001b[49m\n\u001b[1;32m    356\u001b[0m         gotit \u001b[38;5;241m=\u001b[39m \u001b[38;5;28;01mTrue\u001b[39;00m\n\u001b[1;32m    357\u001b[0m     \u001b[38;5;28;01melse\u001b[39;00m:\n",
      "\u001b[0;31mKeyboardInterrupt\u001b[0m: "
     ]
    }
   ],
   "source": [
    "df = pd.read_csv(\"qml_training-validation-data.csv\")\n",
    "X = df[['Element', 'el_neg', 'B/GPa', 'Volume/A^3']].values\n",
    "y = df['SFE/mJm^-3'].values\n",
    "\n",
    "y_scaler = MinMaxScaler((-1, 1))\n",
    "\n",
    "test_ratio = 0.2 #0.1\n",
    "\n",
    "#X_train, y_train, X_test, y_test, element_test = prepare_dataset(y_scaler,X,y)\n",
    "\n",
    "y_test_all, y_hat_all=[],[]\n",
    "\n",
    "iter = 10 # 30\n",
    "\n",
    "# edit this\n",
    "template = \"VQR/pauli/VQR_pauli_j_ii_\"\n",
    "# ! mkdir VQR/pauli\n",
    "start = 1\n",
    "end = 2\n",
    "step = 0.1\n",
    "with open('VQR/pauli/accuracy.csv', mode='w', newline='') as file: \n",
    "    writer = csv.writer(file)\n",
    "    \n",
    "    for j in range(int((end-start)/step)+1):\n",
    "        pairs = []\n",
    "        for i in range(iter):\n",
    "            reconfig_featureMap(start)\n",
    "            message = template[:20] + str(round(start,1)) + template[21:23] + str(i) + template[24:] # modify the output figure name\n",
    "            X_train, y_train, X_test, y_test, element_test = prepare_dataset(y_scaler,test_ratio,X,y) #prepare_dataset(X, y, X_scaler, y_scaler, test_ratio)\n",
    "            vqr = train(X_train, y_train, message)\n",
    "            y_test, y_hat = show_prediction_graph(y_scaler, vqr, element_test, y_test, message)\n",
    "            y_test_all.append(y_test), y_hat_all.append(y_hat)\n",
    "            pair = (y_test, y_hat)\n",
    "            pairs.append(pair)\n",
    "            \n",
    "        r2_values = [r2_score(pair[0], pair[1]) for pair in pairs]\n",
    "\n",
    "        writer.writerow(r2_values)\n",
    "\n",
    "        plt.figure(figsize=(8,6))\n",
    "        #sns.boxplot(data=r2_values)\n",
    "        plt.title(\"Whisker Plot for R^2 Values\")\n",
    "        plt.ylabel(\"R^2\")\n",
    "        plt.savefig(f\"VQR/pauli/VQR_pauli_{round(start,1)}_r2.png\",dpi=300)\n",
    "            \n",
    "        start += step\n",
    "\n",
    "y_test_all=np.concatenate(y_test_all)\n",
    "y_hat_all=np.concatenate(y_hat_all)\n",
    "print(\"R2 score: \",accuracy(y_test_all, y_hat_all))\n"
   ]
  },
  {
   "cell_type": "code",
   "execution_count": null,
   "metadata": {},
   "outputs": [],
   "source": [
    "# different feature map\n",
    "# scaling\n",
    "# Entanglement"
   ]
  },
  {
   "cell_type": "code",
   "execution_count": null,
   "metadata": {},
   "outputs": [],
   "source": []
  }
 ],
 "metadata": {
  "anaconda-cloud": {},
  "colab": {
   "provenance": []
  },
  "kernelspec": {
   "display_name": "my_env",
   "language": "python",
   "name": "my_env"
  },
  "language_info": {
   "codemirror_mode": {
    "name": "ipython",
    "version": 3
   },
   "file_extension": ".py",
   "mimetype": "text/x-python",
   "name": "python",
   "nbconvert_exporter": "python",
   "pygments_lexer": "ipython3",
   "version": "3.12.7"
  }
 },
 "nbformat": 4,
 "nbformat_minor": 4
}
